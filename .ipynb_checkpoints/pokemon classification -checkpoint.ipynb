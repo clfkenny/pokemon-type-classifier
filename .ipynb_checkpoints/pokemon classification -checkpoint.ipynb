{
 "cells": [
  {
   "cell_type": "markdown",
   "metadata": {},
   "source": [
    "## Table of Contents\n",
    "\n",
    "1. [Obtaining the Data](#obtaining-the-data)\n",
    "2. [Exploratory Data Analysis](#exploratory-data-analysis)\n",
    "3. [Obtaining Main Color of Pokemon](#obtaining-main-color-of-pokemon)\n",
    "4. [Building a Predictive Model](#building-a-predictive-model)\n",
    "5. [Conclusion](#Conclusion)"
   ]
  },
  {
   "cell_type": "markdown",
   "metadata": {
    "ExecuteTime": {
     "end_time": "2018-06-25T08:34:26.012233Z",
     "start_time": "2018-06-25T08:34:26.010252Z"
    }
   },
   "source": [
    "# Obtaining the Data"
   ]
  },
  {
   "cell_type": "markdown",
   "metadata": {},
   "source": [
    "Before we can analyze data, we first need to obtain something to analyze. There are a lot of great websites that have the information we need, but for this example we'll be going with [Pokemon Database](https://www.pokemondb.net/pokedex/all). Instead of manually iterating through every single page writing down information about their battle stats, a much more efficient way would be to program a webscraper to automate the data collection. We'll be using Python's `resquest` module to send requests to the website and `BeautifulSoup` to parse the data. Let's begin. "
   ]
  },
  {
   "cell_type": "code",
   "execution_count": null,
   "metadata": {
    "ExecuteTime": {
     "end_time": "2018-07-10T07:43:06.068791Z",
     "start_time": "2018-07-10T07:43:05.872754Z"
    }
   },
   "outputs": [],
   "source": [
    "# import modules for web scraping\n",
    "import requests\n",
    "from bs4 import BeautifulSoup\n",
    "from tqdm import tqdm # add a progress bar for loops"
   ]
  },
  {
   "cell_type": "code",
   "execution_count": null,
   "metadata": {
    "ExecuteTime": {
     "end_time": "2018-07-10T07:43:13.779306Z",
     "start_time": "2018-07-10T07:43:12.588433Z"
    }
   },
   "outputs": [],
   "source": [
    "main_page = requests.get('https://pokemondb.net/pokedex/all')\n",
    "soup = BeautifulSoup(main_page.content, 'html.parser')\n",
    "\n",
    "poke_html_list = soup.select('a.ent-name')\n",
    "poke_list = []\n",
    "for poke in poke_html_list:\n",
    "    if poke['href'] not in poke_list: poke_list.append(poke['href'])"
   ]
  },
  {
   "cell_type": "code",
   "execution_count": null,
   "metadata": {
    "ExecuteTime": {
     "end_time": "2018-07-10T08:21:10.541223Z",
     "start_time": "2018-07-10T08:16:56.649871Z"
    },
    "scrolled": true
   },
   "outputs": [],
   "source": [
    "pokemon_list = []\n",
    "base_stats = []\n",
    "type_ = []\n",
    "evo_stage_list = []\n",
    "\n",
    "for pokemon in tqdm(poke_list):\n",
    "    page2 = requests.get('https://pokemondb.net' + pokemon)\n",
    "    soup2 = BeautifulSoup(page2.content, 'html.parser')\n",
    "    \n",
    "    stats = soup2.select('table.vitals-table tbody td.cell-num') #selecting all the numbers\n",
    "    stat_numbers = []\n",
    "    for index, i in enumerate(stats):\n",
    "        if (index)%3 ==0: stat_numbers.append(i.text) #every 3 is one of the main stats\n",
    "    base_stats.append(stat_numbers)\n",
    "    \n",
    "    \n",
    "    types = soup2.select('table.vitals-table tbody tr a.type-icon')\n",
    "    ind_type = []\n",
    "    for i in types:\n",
    "        ind_type.append(i.text)\n",
    "    type_.append(list(set(ind_type)))\n",
    "\n",
    "    evo_list = soup2.select('div.infocard a.ent-name')\n",
    "    evo_list = list(map(str, evo_list))\n",
    "    evo_stage = [stage for stage, item in enumerate(evo_list) if pokemon+'\"' in item]\n",
    "    # if the list is empty, then that means there is no other evolutions, so just assign it '1'\n",
    "    try:\n",
    "        evo_stage_list.append(evo_stage[0] + 1)\n",
    "    except:\n",
    "        evo_stage_list.append(1)"
   ]
  },
  {
   "cell_type": "code",
   "execution_count": null,
   "metadata": {
    "ExecuteTime": {
     "end_time": "2018-07-10T08:21:45.624694Z",
     "start_time": "2018-07-10T08:21:45.594314Z"
    }
   },
   "outputs": [],
   "source": [
    "hp = []\n",
    "att = []\n",
    "defs = []\n",
    "spatt = []\n",
    "spdef = []\n",
    "spe = []\n",
    "\n",
    "for i in base_stats:\n",
    "    hp.append(i[0])\n",
    "    att.append(i[1])\n",
    "    defs.append(i[2])\n",
    "    spatt.append(i[3])\n",
    "    spdef.append(i[4])\n",
    "    spe.append(i[5])\n",
    "    \n",
    "first_type = []\n",
    "for i in type_:\n",
    "    first_type.append(i[0])\n",
    "\n",
    "import pandas as pd\n",
    "dataf = pd.DataFrame({'pokemon': [i.replace('/pokedex/', '') for i in poke_list],\n",
    "                      'hp': hp,\n",
    "                      'att': att,\n",
    "                      'defs': defs,\n",
    "                      'spatt': spatt,\n",
    "                      'spdef': spdef,\n",
    "                      'spe': spe,\n",
    "                      'type': first_type,\n",
    "                      'types': type_,\n",
    "                     'evo_stage': evo_stage_list})\n",
    "\n",
    "dataf = dataf[['pokemon']+list(dataf.drop('pokemon', axis=1).columns)] # moving pokemon column to the front\n",
    "dataf.to_csv('original_data.csv', index=False)"
   ]
  },
  {
   "cell_type": "markdown",
   "metadata": {},
   "source": [
    "This program iterates through all of the individual pokemon's unique page and collects their HP, Attack, Defense, Sp. Attack, Sp. Def, Speed, Types, and their Evolution Stage. Once the information is collected, the data is passed into a pandas `DataFrame` object so we get an organized and informative dataframe! This is what the first 10 rows look like:"
   ]
  },
  {
   "cell_type": "code",
   "execution_count": null,
   "metadata": {
    "ExecuteTime": {
     "end_time": "2018-07-10T08:21:47.482637Z",
     "start_time": "2018-07-10T08:21:47.451686Z"
    }
   },
   "outputs": [],
   "source": [
    "dataf.head(10)"
   ]
  },
  {
   "cell_type": "markdown",
   "metadata": {
    "ExecuteTime": {
     "end_time": "2018-06-29T04:10:03.851629Z",
     "start_time": "2018-06-29T04:10:03.831833Z"
    }
   },
   "source": [
    "The data is formatted such that the columns represent the different stats, types, and evolution stage while each row represents a different pokemon. This convenient `DataFrame` structure will allow us easily perform our analyses. Now that the computer has done all the hard work of collecting the data, let's dive in!"
   ]
  },
  {
   "cell_type": "markdown",
   "metadata": {},
   "source": [
    "# Exploratory Data Analysis"
   ]
  },
  {
   "cell_type": "code",
   "execution_count": 1,
   "metadata": {
    "ExecuteTime": {
     "end_time": "2018-07-11T02:11:55.969167Z",
     "start_time": "2018-07-11T02:11:55.429690Z"
    }
   },
   "outputs": [],
   "source": [
    "# importing our data exploration modules\n",
    "import pandas as pd\n",
    "import numpy as np\n",
    "import matplotlib.pyplot as plt\n",
    "import seaborn as sns\n",
    "%matplotlib inline\n",
    "plt.rcParams.update({'font.size': 20}) # to increase matplotlib's font size\n",
    "sns.set_style(\"darkgrid\") # set plot styling"
   ]
  },
  {
   "cell_type": "markdown",
   "metadata": {},
   "source": [
    "We'll be using `pandas` for all of our data manipulation needs. For visualizations, we'll be using `seaborn`, which is a statisical data visualization library that uses `matplotlib`. To pass the data into `seaborn`, we first need to \"melt\" the data so that it is in *long* format rather than *wide*. This means that there will be a single column called `stats` rather than having each stat as a separate column."
   ]
  },
  {
   "cell_type": "code",
   "execution_count": 2,
   "metadata": {
    "ExecuteTime": {
     "end_time": "2018-07-11T02:11:56.997937Z",
     "start_time": "2018-07-11T02:11:56.919586Z"
    }
   },
   "outputs": [
    {
     "data": {
      "text/html": [
       "<div>\n",
       "<style scoped>\n",
       "    .dataframe tbody tr th:only-of-type {\n",
       "        vertical-align: middle;\n",
       "    }\n",
       "\n",
       "    .dataframe tbody tr th {\n",
       "        vertical-align: top;\n",
       "    }\n",
       "\n",
       "    .dataframe thead th {\n",
       "        text-align: right;\n",
       "    }\n",
       "</style>\n",
       "<table border=\"1\" class=\"dataframe\">\n",
       "  <thead>\n",
       "    <tr style=\"text-align: right;\">\n",
       "      <th></th>\n",
       "      <th>pokemon</th>\n",
       "      <th>type</th>\n",
       "      <th>evo_stage</th>\n",
       "      <th>stats</th>\n",
       "      <th>value</th>\n",
       "    </tr>\n",
       "  </thead>\n",
       "  <tbody>\n",
       "    <tr>\n",
       "      <th>0</th>\n",
       "      <td>bulbasaur</td>\n",
       "      <td>Grass</td>\n",
       "      <td>1</td>\n",
       "      <td>hp</td>\n",
       "      <td>45</td>\n",
       "    </tr>\n",
       "    <tr>\n",
       "      <th>1</th>\n",
       "      <td>ivysaur</td>\n",
       "      <td>Grass</td>\n",
       "      <td>2</td>\n",
       "      <td>hp</td>\n",
       "      <td>60</td>\n",
       "    </tr>\n",
       "    <tr>\n",
       "      <th>2</th>\n",
       "      <td>venusaur</td>\n",
       "      <td>Grass</td>\n",
       "      <td>3</td>\n",
       "      <td>hp</td>\n",
       "      <td>80</td>\n",
       "    </tr>\n",
       "    <tr>\n",
       "      <th>3</th>\n",
       "      <td>charmander</td>\n",
       "      <td>Fire</td>\n",
       "      <td>1</td>\n",
       "      <td>hp</td>\n",
       "      <td>39</td>\n",
       "    </tr>\n",
       "    <tr>\n",
       "      <th>4</th>\n",
       "      <td>charmeleon</td>\n",
       "      <td>Fire</td>\n",
       "      <td>2</td>\n",
       "      <td>hp</td>\n",
       "      <td>58</td>\n",
       "    </tr>\n",
       "    <tr>\n",
       "      <th>5</th>\n",
       "      <td>charizard</td>\n",
       "      <td>Fire</td>\n",
       "      <td>3</td>\n",
       "      <td>hp</td>\n",
       "      <td>78</td>\n",
       "    </tr>\n",
       "    <tr>\n",
       "      <th>6</th>\n",
       "      <td>squirtle</td>\n",
       "      <td>Water</td>\n",
       "      <td>1</td>\n",
       "      <td>hp</td>\n",
       "      <td>44</td>\n",
       "    </tr>\n",
       "    <tr>\n",
       "      <th>7</th>\n",
       "      <td>wartortle</td>\n",
       "      <td>Water</td>\n",
       "      <td>2</td>\n",
       "      <td>hp</td>\n",
       "      <td>59</td>\n",
       "    </tr>\n",
       "    <tr>\n",
       "      <th>8</th>\n",
       "      <td>blastoise</td>\n",
       "      <td>Water</td>\n",
       "      <td>3</td>\n",
       "      <td>hp</td>\n",
       "      <td>79</td>\n",
       "    </tr>\n",
       "    <tr>\n",
       "      <th>9</th>\n",
       "      <td>caterpie</td>\n",
       "      <td>Bug</td>\n",
       "      <td>1</td>\n",
       "      <td>hp</td>\n",
       "      <td>45</td>\n",
       "    </tr>\n",
       "  </tbody>\n",
       "</table>\n",
       "</div>"
      ],
      "text/plain": [
       "      pokemon   type  evo_stage stats  value\n",
       "0   bulbasaur  Grass          1    hp     45\n",
       "1     ivysaur  Grass          2    hp     60\n",
       "2    venusaur  Grass          3    hp     80\n",
       "3  charmander   Fire          1    hp     39\n",
       "4  charmeleon   Fire          2    hp     58\n",
       "5   charizard   Fire          3    hp     78\n",
       "6    squirtle  Water          1    hp     44\n",
       "7   wartortle  Water          2    hp     59\n",
       "8   blastoise  Water          3    hp     79\n",
       "9    caterpie    Bug          1    hp     45"
      ]
     },
     "execution_count": 2,
     "metadata": {},
     "output_type": "execute_result"
    },
    {
     "name": "stdout",
     "output_type": "stream",
     "text": [
      "The shape of the original dataframe is:  (807, 10)\n",
      "The shape of the melted dataframe is:  (4842, 5)\n"
     ]
    }
   ],
   "source": [
    "dataf = pd.read_csv('original_data.csv')\n",
    "dataf.loc[dataf.evo_stage>3, 'evo_stage'] = 3\n",
    "dataf.pokemon = dataf.pokemon.str.lower()\n",
    "dataf_stats = dataf.drop(['types'], axis=1)\n",
    "\n",
    "dataf_long_stats = pd.melt(dataf_stats, id_vars = ['pokemon','type','evo_stage'], var_name = 'stats')\n",
    "dataf_long_stats.head(10)\n",
    "print('The shape of the original dataframe is: ', dataf.shape)\n",
    "print('The shape of the melted dataframe is: ', dataf_long_stats.shape)"
   ]
  },
  {
   "cell_type": "markdown",
   "metadata": {},
   "source": [
    "We can see that the new dataframe is 807*6=4842. Instead of having a \"wider\" dataframe, the dataframe is now \"longer,\" which makes it easier to perform aggregate computations and visualizations. First, let's see the average value of each stat using `pivot_table`."
   ]
  },
  {
   "cell_type": "code",
   "execution_count": 3,
   "metadata": {
    "ExecuteTime": {
     "end_time": "2018-07-11T02:11:58.178526Z",
     "start_time": "2018-07-11T02:11:58.152585Z"
    }
   },
   "outputs": [
    {
     "data": {
      "text/html": [
       "<div>\n",
       "<style scoped>\n",
       "    .dataframe tbody tr th:only-of-type {\n",
       "        vertical-align: middle;\n",
       "    }\n",
       "\n",
       "    .dataframe tbody tr th {\n",
       "        vertical-align: top;\n",
       "    }\n",
       "\n",
       "    .dataframe thead th {\n",
       "        text-align: right;\n",
       "    }\n",
       "</style>\n",
       "<table border=\"1\" class=\"dataframe\">\n",
       "  <thead>\n",
       "    <tr style=\"text-align: right;\">\n",
       "      <th></th>\n",
       "      <th>mean</th>\n",
       "      <th>std</th>\n",
       "    </tr>\n",
       "    <tr>\n",
       "      <th>stats</th>\n",
       "      <th></th>\n",
       "      <th></th>\n",
       "    </tr>\n",
       "  </thead>\n",
       "  <tbody>\n",
       "    <tr>\n",
       "      <th>att</th>\n",
       "      <td>76.210657</td>\n",
       "      <td>29.644590</td>\n",
       "    </tr>\n",
       "    <tr>\n",
       "      <th>defs</th>\n",
       "      <td>71.602230</td>\n",
       "      <td>29.611741</td>\n",
       "    </tr>\n",
       "    <tr>\n",
       "      <th>hp</th>\n",
       "      <td>68.748451</td>\n",
       "      <td>26.032808</td>\n",
       "    </tr>\n",
       "    <tr>\n",
       "      <th>spatt</th>\n",
       "      <td>69.610905</td>\n",
       "      <td>29.567768</td>\n",
       "    </tr>\n",
       "    <tr>\n",
       "      <th>spdef</th>\n",
       "      <td>69.889715</td>\n",
       "      <td>27.155402</td>\n",
       "    </tr>\n",
       "    <tr>\n",
       "      <th>spe</th>\n",
       "      <td>65.830235</td>\n",
       "      <td>27.736838</td>\n",
       "    </tr>\n",
       "  </tbody>\n",
       "</table>\n",
       "</div>"
      ],
      "text/plain": [
       "            mean        std\n",
       "stats                      \n",
       "att    76.210657  29.644590\n",
       "defs   71.602230  29.611741\n",
       "hp     68.748451  26.032808\n",
       "spatt  69.610905  29.567768\n",
       "spdef  69.889715  27.155402\n",
       "spe    65.830235  27.736838"
      ]
     },
     "execution_count": 3,
     "metadata": {},
     "output_type": "execute_result"
    }
   ],
   "source": [
    "df_agg = dataf_long_stats.groupby('stats')\n",
    "df_agg.value.agg([np.mean, np.std])"
   ]
  },
  {
   "cell_type": "markdown",
   "metadata": {},
   "source": [
    "Now, let's see the distributions of each stat with boxplots."
   ]
  },
  {
   "cell_type": "code",
   "execution_count": 4,
   "metadata": {
    "ExecuteTime": {
     "end_time": "2018-07-11T02:11:59.773340Z",
     "start_time": "2018-07-11T02:11:59.604164Z"
    }
   },
   "outputs": [
    {
     "data": {
      "text/plain": [
       "<Figure size 576x432 with 0 Axes>"
      ]
     },
     "execution_count": 4,
     "metadata": {},
     "output_type": "execute_result"
    },
    {
     "data": {
      "text/plain": [
       "<matplotlib.axes._subplots.AxesSubplot at 0x7f8839693710>"
      ]
     },
     "execution_count": 4,
     "metadata": {},
     "output_type": "execute_result"
    },
    {
     "data": {
      "text/plain": [
       "Text(0.5,1,'Boxplot of Stats')"
      ]
     },
     "execution_count": 4,
     "metadata": {},
     "output_type": "execute_result"
    },
    {
     "data": {
      "image/png": "[encoded data removed]",
      "text/plain": [
       "<Figure size 576x432 with 1 Axes>"
      ]
     },
     "metadata": {},
     "output_type": "display_data"
    }
   ],
   "source": [
    "plt.figure(figsize=(8,6))\n",
    "sns.boxplot(x='stats', y='value', data = dataf_long_stats)\n",
    "plt.title('Boxplot of Stats')"
   ]
  },
  {
   "cell_type": "markdown",
   "metadata": {},
   "source": [
    "Doesn't seem like there's anything *toooo* interesting here. The medians for each stat appears to be around 70-80. There does seem to be an abnormally large amount of outliers for HP. Let's take a look at how evolution stage affects stats using a swarmplot. Since the visual will be very messy with all the pokemon, I decided to take a look at the first 200."
   ]
  },
  {
   "cell_type": "code",
   "execution_count": 5,
   "metadata": {
    "ExecuteTime": {
     "end_time": "2018-07-11T02:13:13.192505Z",
     "start_time": "2018-07-11T02:13:12.810446Z"
    }
   },
   "outputs": [
    {
     "data": {
      "text/plain": [
       "<Figure size 720x720 with 0 Axes>"
      ]
     },
     "execution_count": 5,
     "metadata": {},
     "output_type": "execute_result"
    },
    {
     "data": {
      "text/plain": [
       "<matplotlib.axes._subplots.AxesSubplot at 0x7f88374c7c50>"
      ]
     },
     "execution_count": 5,
     "metadata": {},
     "output_type": "execute_result"
    },
    {
     "data": {
      "text/plain": [
       "Text(0.5,1,'Swarmplot of Stats with Evolution')"
      ]
     },
     "execution_count": 5,
     "metadata": {},
     "output_type": "execute_result"
    },
    {
     "data": {
      "image/png": "[encoded data removed]",
      "text/plain": [
       "<Figure size 720x720 with 1 Axes>"
      ]
     },
     "metadata": {},
     "output_type": "display_data"
    }
   ],
   "source": [
    "# script to extract first 200 pokemon\n",
    "indexes = []\n",
    "count = 0\n",
    "for i in range(dataf_long_stats.shape[0]):\n",
    "    if count <= 200:\n",
    "        indexes.append(i)               \n",
    "    count += 1               \n",
    "    if i % 807 == 0:\n",
    "        count = 0    \n",
    "# drawing the swarmplot\n",
    "plt.figure(figsize=(10,10))\n",
    "sns.swarmplot(x='stats', y= 'value', hue = 'evo_stage', \n",
    "              data = dataf_long_stats.iloc[indexes], palette = 'muted' )\n",
    "plt.title('Swarmplot of Stats with Evolution')"
   ]
  },
  {
   "cell_type": "markdown",
   "metadata": {},
   "source": [
    "This graph tells us a few things that we probably already knew. First of all, we can see that the first stage comprises most of the pokemon and tends to have the lowest stats. Next, we see that the third stage are the fewest but they tend to be higher up on the graph. The second stage is intermediate in both count and stat values. "
   ]
  },
  {
   "cell_type": "code",
   "execution_count": null,
   "metadata": {
    "ExecuteTime": {
     "end_time": "2018-07-11T02:13:44.106939Z",
     "start_time": "2018-07-11T02:13:41.704180Z"
    }
   },
   "outputs": [],
   "source": [
    "plt.figure(figsize=(15,13))\n",
    "sns.swarmplot(x='stats', y = 'value', hue = 'type', data = dataf_long_stats)\n",
    "plt.legend(loc = 2, bbox_to_anchor=(1,1))"
   ]
  },
  {
   "cell_type": "markdown",
   "metadata": {},
   "source": [
    "Let's see what kind of role type plays on stats. First let's take a look at the numbers by aggregating the data with a pivot table."
   ]
  },
  {
   "cell_type": "code",
   "execution_count": 7,
   "metadata": {
    "ExecuteTime": {
     "end_time": "2018-07-11T02:13:56.326625Z",
     "start_time": "2018-07-11T02:13:56.111115Z"
    }
   },
   "outputs": [
    {
     "data": {
      "text/html": [
       "<div>\n",
       "<style scoped>\n",
       "    .dataframe tbody tr th:only-of-type {\n",
       "        vertical-align: middle;\n",
       "    }\n",
       "\n",
       "    .dataframe tbody tr th {\n",
       "        vertical-align: top;\n",
       "    }\n",
       "\n",
       "    .dataframe thead th {\n",
       "        text-align: right;\n",
       "    }\n",
       "</style>\n",
       "<table border=\"1\" class=\"dataframe\">\n",
       "  <thead>\n",
       "    <tr style=\"text-align: right;\">\n",
       "      <th>stats</th>\n",
       "      <th>att</th>\n",
       "      <th>defs</th>\n",
       "      <th>hp</th>\n",
       "      <th>spatt</th>\n",
       "      <th>spdef</th>\n",
       "      <th>spe</th>\n",
       "    </tr>\n",
       "    <tr>\n",
       "      <th>type</th>\n",
       "      <th></th>\n",
       "      <th></th>\n",
       "      <th></th>\n",
       "      <th></th>\n",
       "      <th></th>\n",
       "      <th></th>\n",
       "    </tr>\n",
       "  </thead>\n",
       "  <tbody>\n",
       "    <tr>\n",
       "      <th>Bug</th>\n",
       "      <td>57.575000</td>\n",
       "      <td>66.625000</td>\n",
       "      <td>50.275000</td>\n",
       "      <td>41.575000</td>\n",
       "      <td>57.750000</td>\n",
       "      <td>50.150000</td>\n",
       "    </tr>\n",
       "    <tr>\n",
       "      <th>Dark</th>\n",
       "      <td>84.800000</td>\n",
       "      <td>61.200000</td>\n",
       "      <td>62.000000</td>\n",
       "      <td>84.800000</td>\n",
       "      <td>68.700000</td>\n",
       "      <td>78.200000</td>\n",
       "    </tr>\n",
       "    <tr>\n",
       "      <th>Dragon</th>\n",
       "      <td>93.678571</td>\n",
       "      <td>78.750000</td>\n",
       "      <td>79.714286</td>\n",
       "      <td>82.964286</td>\n",
       "      <td>80.392857</td>\n",
       "      <td>70.357143</td>\n",
       "    </tr>\n",
       "    <tr>\n",
       "      <th>Electric</th>\n",
       "      <td>69.454545</td>\n",
       "      <td>56.515152</td>\n",
       "      <td>63.181818</td>\n",
       "      <td>79.424242</td>\n",
       "      <td>65.606061</td>\n",
       "      <td>82.242424</td>\n",
       "    </tr>\n",
       "    <tr>\n",
       "      <th>Fairy</th>\n",
       "      <td>63.333333</td>\n",
       "      <td>71.361111</td>\n",
       "      <td>64.833333</td>\n",
       "      <td>79.000000</td>\n",
       "      <td>87.500000</td>\n",
       "      <td>63.361111</td>\n",
       "    </tr>\n",
       "    <tr>\n",
       "      <th>Fighting</th>\n",
       "      <td>99.227273</td>\n",
       "      <td>73.318182</td>\n",
       "      <td>74.113636</td>\n",
       "      <td>60.227273</td>\n",
       "      <td>69.386364</td>\n",
       "      <td>72.568182</td>\n",
       "    </tr>\n",
       "    <tr>\n",
       "      <th>Fire</th>\n",
       "      <td>80.500000</td>\n",
       "      <td>65.515625</td>\n",
       "      <td>68.328125</td>\n",
       "      <td>87.578125</td>\n",
       "      <td>70.218750</td>\n",
       "      <td>75.171875</td>\n",
       "    </tr>\n",
       "    <tr>\n",
       "      <th>Flying</th>\n",
       "      <td>76.157895</td>\n",
       "      <td>69.070175</td>\n",
       "      <td>73.087719</td>\n",
       "      <td>80.210526</td>\n",
       "      <td>74.789474</td>\n",
       "      <td>83.982456</td>\n",
       "    </tr>\n",
       "    <tr>\n",
       "      <th>Ghost</th>\n",
       "      <td>72.142857</td>\n",
       "      <td>87.428571</td>\n",
       "      <td>56.142857</td>\n",
       "      <td>79.285714</td>\n",
       "      <td>88.428571</td>\n",
       "      <td>59.857143</td>\n",
       "    </tr>\n",
       "    <tr>\n",
       "      <th>Grass</th>\n",
       "      <td>73.052632</td>\n",
       "      <td>71.294737</td>\n",
       "      <td>64.968421</td>\n",
       "      <td>71.094737</td>\n",
       "      <td>70.747368</td>\n",
       "      <td>57.305263</td>\n",
       "    </tr>\n",
       "    <tr>\n",
       "      <th>Ground</th>\n",
       "      <td>88.166667</td>\n",
       "      <td>83.900000</td>\n",
       "      <td>74.366667</td>\n",
       "      <td>55.783333</td>\n",
       "      <td>61.033333</td>\n",
       "      <td>57.500000</td>\n",
       "    </tr>\n",
       "    <tr>\n",
       "      <th>Ice</th>\n",
       "      <td>78.642857</td>\n",
       "      <td>78.500000</td>\n",
       "      <td>67.000000</td>\n",
       "      <td>71.142857</td>\n",
       "      <td>82.214286</td>\n",
       "      <td>65.571429</td>\n",
       "    </tr>\n",
       "    <tr>\n",
       "      <th>Normal</th>\n",
       "      <td>73.588785</td>\n",
       "      <td>58.457944</td>\n",
       "      <td>76.093458</td>\n",
       "      <td>56.906542</td>\n",
       "      <td>63.028037</td>\n",
       "      <td>69.177570</td>\n",
       "    </tr>\n",
       "    <tr>\n",
       "      <th>Poison</th>\n",
       "      <td>70.720000</td>\n",
       "      <td>64.800000</td>\n",
       "      <td>64.520000</td>\n",
       "      <td>65.440000</td>\n",
       "      <td>64.480000</td>\n",
       "      <td>67.320000</td>\n",
       "    </tr>\n",
       "    <tr>\n",
       "      <th>Psychic</th>\n",
       "      <td>55.378378</td>\n",
       "      <td>63.432432</td>\n",
       "      <td>70.567568</td>\n",
       "      <td>85.324324</td>\n",
       "      <td>79.135135</td>\n",
       "      <td>65.000000</td>\n",
       "    </tr>\n",
       "    <tr>\n",
       "      <th>Rock</th>\n",
       "      <td>87.629630</td>\n",
       "      <td>94.888889</td>\n",
       "      <td>70.925926</td>\n",
       "      <td>61.185185</td>\n",
       "      <td>67.333333</td>\n",
       "      <td>50.481481</td>\n",
       "    </tr>\n",
       "    <tr>\n",
       "      <th>Steel</th>\n",
       "      <td>91.000000</td>\n",
       "      <td>111.000000</td>\n",
       "      <td>65.171429</td>\n",
       "      <td>73.542857</td>\n",
       "      <td>81.142857</td>\n",
       "      <td>55.485714</td>\n",
       "    </tr>\n",
       "    <tr>\n",
       "      <th>Water</th>\n",
       "      <td>70.543210</td>\n",
       "      <td>70.518519</td>\n",
       "      <td>67.629630</td>\n",
       "      <td>70.802469</td>\n",
       "      <td>65.604938</td>\n",
       "      <td>63.407407</td>\n",
       "    </tr>\n",
       "  </tbody>\n",
       "</table>\n",
       "</div>"
      ],
      "text/plain": [
       "stats           att        defs         hp      spatt      spdef        spe\n",
       "type                                                                       \n",
       "Bug       57.575000   66.625000  50.275000  41.575000  57.750000  50.150000\n",
       "Dark      84.800000   61.200000  62.000000  84.800000  68.700000  78.200000\n",
       "Dragon    93.678571   78.750000  79.714286  82.964286  80.392857  70.357143\n",
       "Electric  69.454545   56.515152  63.181818  79.424242  65.606061  82.242424\n",
       "Fairy     63.333333   71.361111  64.833333  79.000000  87.500000  63.361111\n",
       "Fighting  99.227273   73.318182  74.113636  60.227273  69.386364  72.568182\n",
       "Fire      80.500000   65.515625  68.328125  87.578125  70.218750  75.171875\n",
       "Flying    76.157895   69.070175  73.087719  80.210526  74.789474  83.982456\n",
       "Ghost     72.142857   87.428571  56.142857  79.285714  88.428571  59.857143\n",
       "Grass     73.052632   71.294737  64.968421  71.094737  70.747368  57.305263\n",
       "Ground    88.166667   83.900000  74.366667  55.783333  61.033333  57.500000\n",
       "Ice       78.642857   78.500000  67.000000  71.142857  82.214286  65.571429\n",
       "Normal    73.588785   58.457944  76.093458  56.906542  63.028037  69.177570\n",
       "Poison    70.720000   64.800000  64.520000  65.440000  64.480000  67.320000\n",
       "Psychic   55.378378   63.432432  70.567568  85.324324  79.135135  65.000000\n",
       "Rock      87.629630   94.888889  70.925926  61.185185  67.333333  50.481481\n",
       "Steel     91.000000  111.000000  65.171429  73.542857  81.142857  55.485714\n",
       "Water     70.543210   70.518519  67.629630  70.802469  65.604938  63.407407"
      ]
     },
     "execution_count": 7,
     "metadata": {},
     "output_type": "execute_result"
    },
    {
     "data": {
      "text/plain": [
       "<matplotlib.axes._subplots.AxesSubplot at 0x7f8837369fd0>"
      ]
     },
     "execution_count": 7,
     "metadata": {},
     "output_type": "execute_result"
    },
    {
     "data": {
      "image/png": "[encoded data removed]",
      "text/plain": [
       "<Figure size 432x288 with 2 Axes>"
      ]
     },
     "metadata": {},
     "output_type": "display_data"
    }
   ],
   "source": [
    "df_agg = pd.pivot_table(dataf_long_stats.drop('evo_stage',axis=1), \n",
    "                        index='type', columns = 'stats', values='value')\n",
    "df_agg\n",
    "sns.heatmap(df_agg)"
   ]
  },
  {
   "cell_type": "markdown",
   "metadata": {},
   "source": [
    "It's a bit hard to see any trends with just numbers and this heatmap... Let's see how these numbers play out with other visuals. This will be a barplot that describes the distribution of means for each of the stats."
   ]
  },
  {
   "cell_type": "code",
   "execution_count": 8,
   "metadata": {
    "ExecuteTime": {
     "end_time": "2018-07-11T02:14:02.962085Z",
     "start_time": "2018-07-11T02:14:00.386144Z"
    }
   },
   "outputs": [
    {
     "data": {
      "image/png": "[encoded data removed]",
      "text/plain": [
       "<Figure size 1080x864 with 18 Axes>"
      ]
     },
     "metadata": {},
     "output_type": "display_data"
    }
   ],
   "source": [
    "plt.rcParams.update({'font.size': 13})\n",
    "g = sns.factorplot(x='stats', y = 'value', data = dataf_long_stats,\n",
    "                   col = 'type', col_wrap=5, kind = 'bar', size = 3)"
   ]
  },
  {
   "cell_type": "markdown",
   "metadata": {},
   "source": [
    "A bit hard to see, but there are some interesting trends. For example, bug type pokemon seem to have lower overall. Steel and rock types have strikingly high defense but very low speed. "
   ]
  },
  {
   "cell_type": "code",
   "execution_count": 9,
   "metadata": {
    "ExecuteTime": {
     "end_time": "2018-07-11T02:14:19.793135Z",
     "start_time": "2018-07-11T02:14:17.337126Z"
    }
   },
   "outputs": [
    {
     "data": {
      "image/png": "[encoded data removed]",
      "text/plain": [
       "<Figure size 1080x864 with 18 Axes>"
      ]
     },
     "metadata": {},
     "output_type": "display_data"
    }
   ],
   "source": [
    "plt.rcParams.update({'font.size': 13})\n",
    "g = sns.factorplot(x='stats', y = 'value', data = dataf_long_stats,\n",
    "                   col = 'type', col_wrap=5, kind = 'point', size = 3)"
   ]
  },
  {
   "cell_type": "markdown",
   "metadata": {},
   "source": [
    "A similar visual, except using points rather than bar. This allows us to much more easily see the distribution of stats per type. Perhaps we can build a model that can learn these differences..."
   ]
  },
  {
   "cell_type": "markdown",
   "metadata": {
    "heading_collapsed": true
   },
   "source": [
    "# Obtaining the Main Color of each Pokemon"
   ]
  },
  {
   "cell_type": "code",
   "execution_count": null,
   "metadata": {
    "ExecuteTime": {
     "end_time": "2018-07-10T08:16:09.028600Z",
     "start_time": "2018-07-10T08:16:08.936116Z"
    },
    "hidden": true
   },
   "outputs": [],
   "source": [
    "import requests\n",
    "import PIL\n",
    "import io\n",
    "import numpy as np\n",
    "import cv2"
   ]
  },
  {
   "cell_type": "code",
   "execution_count": null,
   "metadata": {
    "ExecuteTime": {
     "end_time": "2018-07-10T08:27:35.505689Z",
     "start_time": "2018-07-10T08:27:35.238200Z"
    },
    "code_folding": [],
    "hidden": true
   },
   "outputs": [],
   "source": [
    "# Download all of the pokemon images\n",
    "\n",
    "poke_col_list = []\n",
    "for counter, pokemon in enumerate(poke_list):\n",
    "    page2 = requests.get('https://pokemondb.net' + pokemon)\n",
    "    soup2 = BeautifulSoup(page2.content, 'html.parser')\n",
    "\n",
    "    img_link = soup2.select('div.col.desk-span-4.lap-span-6.figure img')[0]['src']\n",
    "    #print(img_link)\n",
    "    \n",
    "\n",
    "    img = requests.get(img_link, stream=True)\n",
    "    \n",
    "    img_name = 'images' + pokemon.replace('/pokedex', '') + '.jpg' \n",
    "    with open(img_name, 'wb') as handler:\n",
    "        handler.write(img.content)\n",
    "        #print('Saving', pokemon)\n",
    "        print(str(counter+1)+ '/'+ str(len(poke_list)) + ' saved.')    "
   ]
  },
  {
   "cell_type": "markdown",
   "metadata": {
    "hidden": true
   },
   "source": [
    "I will be defining the \"main color\" of the pokemon as the average of it's color. Each image contains the pokemon and a white background. If I take just the average of the entire image, it will be too white because of the white background. To avoid this problem, I used a k-means function to compute 2 clusters. One cluster center will correspond to the average of the white background while the other cluster center will correspond to the average of the pokemon color."
   ]
  },
  {
   "cell_type": "code",
   "execution_count": null,
   "metadata": {
    "ExecuteTime": {
     "end_time": "2018-07-10T08:28:57.658078Z",
     "start_time": "2018-07-10T08:27:49.134092Z"
    },
    "hidden": true,
    "scrolled": true
   },
   "outputs": [],
   "source": [
    "from os import listdir\n",
    "poke_img_files = listdir('images')\n",
    "\n",
    "poke_col_list = []\n",
    "for poke_img in tqdm(poke_img_files):\n",
    "    img = PIL.Image.open('images/'+ poke_img)\n",
    "    img = cv2.cvtColor(np.array(img), cv2.COLOR_RGB2BGR)\n",
    "\n",
    "    Z = img.reshape((-1,3))\n",
    "    # convert to np.float32\n",
    "    Z = np.float32(Z)\n",
    "    # define criteria, number of clusters(K) and apply kmeans()\n",
    "    criteria = (cv2.TERM_CRITERIA_EPS + cv2.TERM_CRITERIA_MAX_ITER, 10, 1.0)\n",
    "    K = 2\n",
    "    ret,label,center=cv2.kmeans(Z,K,None,criteria,10,cv2.KMEANS_RANDOM_CENTERS)\n",
    "    # Now convert back into uint8, and make original image\n",
    "    center = np.uint8(center)\n",
    "    res = center[label.flatten()]\n",
    "    res2 = res.reshape((img.shape))\n",
    "\n",
    "\n",
    "    b,g,r = cv2.split(res2)\n",
    "    frame_rgb = cv2.merge((r,g,b))\n",
    "    img_name = 'new_images/' + poke_img\n",
    "    pil_img = PIL.Image.fromarray(frame_rgb, \"RGB\")\n",
    "    pil_img.save(img_name)\n",
    "    #print('Saving', poke_img)\n",
    "    \n",
    "    # extracting the two colors\n",
    "    two_colors = []\n",
    "    big_list = []\n",
    "    res3 = res2.tolist()\n",
    "    for i in res3:\n",
    "        big_list.extend(i)\n",
    "    for i in big_list:\n",
    "        in_list = i in two_colors\n",
    "        if in_list == False: two_colors.append(i)\n",
    "    # the color that is farther away from 250 (white) is probably the pokemon's dominant color\n",
    "\n",
    "    main_color = [sorted(two_colors)[0]] # each array is (BGR) instead of (RGB)\n",
    "    poke_col_list.append(main_color)"
   ]
  },
  {
   "cell_type": "code",
   "execution_count": null,
   "metadata": {
    "ExecuteTime": {
     "end_time": "2018-07-10T08:38:52.214093Z",
     "start_time": "2018-07-10T08:38:52.176387Z"
    },
    "hidden": true
   },
   "outputs": [],
   "source": [
    "poke_col_list_flat = []\n",
    "for i in poke_col_list:\n",
    "    for j in i:\n",
    "        poke_col_list_flat.append(j)\n",
    "b, g, r = zip(*poke_col_list_flat) # create new lists that correspond to blue, green, and red channel\n",
    "color_df = pd.DataFrame({'r':r, 'g': g, 'b': b,\n",
    "                         'pokemon': [item.replace('.jpg', '') for item in poke_img_files]})\n",
    "\n",
    "# adding this column 'color' because plotly requires color to be in that format\n",
    "color_df['color'] = 'rgb(' + color_df.r.map(str) + ', ' + color_df.g.map(str) + ', ' + color_df.b.map(str) + ')'\n",
    "\n",
    "dataf = pd.merge(dataf, color_df, on = 'pokemon') # merging the color dataframe with the original dataframe by 'pokemon' column\n",
    "dataf.shape\n",
    "dataf.head()\n",
    "\n",
    "dataf.to_csv('data_w_color.csv', index= False)"
   ]
  },
  {
   "cell_type": "markdown",
   "metadata": {
    "hidden": true
   },
   "source": [
    "Visualizing the the colors"
   ]
  },
  {
   "cell_type": "code",
   "execution_count": null,
   "metadata": {
    "ExecuteTime": {
     "end_time": "2018-07-10T08:38:55.714409Z",
     "start_time": "2018-07-10T08:38:55.304610Z"
    },
    "hidden": true
   },
   "outputs": [],
   "source": [
    "import plotly.plotly as py\n",
    "import plotly.graph_objs as go\n",
    "import numpy as np"
   ]
  },
  {
   "cell_type": "code",
   "execution_count": null,
   "metadata": {
    "ExecuteTime": {
     "end_time": "2018-07-10T08:38:58.245754Z",
     "start_time": "2018-07-10T08:38:56.417400Z"
    },
    "hidden": true
   },
   "outputs": [],
   "source": [
    "dataf = pd.read_csv('data_w_color.csv')\n",
    "\n",
    "trace1 = go.Scatter3d(\n",
    "    x=dataf['r'],\n",
    "    y=dataf['g'],\n",
    "    z=dataf['b'],\n",
    "    mode='markers',\n",
    "    marker=dict(\n",
    "        color=dataf['color'],\n",
    "        size=5,\n",
    "        line=dict(\n",
    "            color= dataf['color'],\n",
    "            width=0.5\n",
    "        ),\n",
    "        opacity=0.8\n",
    "    ),\n",
    "    text = dataf.pokemon\n",
    ")\n",
    "\n",
    "data = [trace1]\n",
    "\n",
    "layout = go.Layout(\n",
    "    margin=dict(\n",
    "        l=0,\n",
    "        r=0,\n",
    "        b=0,\n",
    "        t=0\n",
    "    ),\n",
    "    scene = dict(\n",
    "        xaxis = dict(title = 'Red'),\n",
    "        yaxis = dict(title = 'Green'),\n",
    "        zaxis = dict(title = 'Blue')\n",
    "    ),\n",
    "    paper_bgcolor='rgba(0,0,0,0)'\n",
    ")\n",
    "fig = go.Figure(data=data, layout=layout)\n",
    "py.iplot(fig, filename='simple-3d-scatter')"
   ]
  },
  {
   "cell_type": "markdown",
   "metadata": {
    "hidden": true
   },
   "source": [
    "Interesting results... but this doesn't tell us much besides the color distribution. What's more important would be to include type into visual. Now, keeping the same points on this graph, but changing each point's color to correspond to its type. This will allow us to see the relationship between color and type. First, we need to create a new color scheme that corresponds to the colors that we're more familiar with."
   ]
  },
  {
   "cell_type": "code",
   "execution_count": null,
   "metadata": {
    "ExecuteTime": {
     "end_time": "2018-07-10T08:39:01.813527Z",
     "start_time": "2018-07-10T08:39:01.674628Z"
    },
    "hidden": true
   },
   "outputs": [],
   "source": [
    "color_type_dict = {}\n",
    "\n",
    "# obtaining this color palette from bulbapedia.com\n",
    "color_type_dict = {'Grass': 'rgb(120,200,80)',\n",
    "                   'Fire': 'rgb(240,128,48)',\n",
    "                   'Water': 'rgb(104,144,240)',\n",
    "                   'Bug': 'rgb(168,184,32)',\n",
    "                   'Normal': 'rgb(168,168,120)',\n",
    "                   'Poison': 'rgb(160,64,160)',\n",
    "                   'Electric': 'rgb(248,208,48)',\n",
    "                   'Ground': 'rgb(224,192,104)',\n",
    "                   'Fairy': 'rgb(238,153,172)',\n",
    "                   'Fighting': 'rgb(192,48,40)',\n",
    "                   'Psychic': 'rgb(248,88,136)',\n",
    "                   'Rock': 'rgb(184,160,56)',\n",
    "                   'Ghost': 'rgb(112,88,152)',\n",
    "                   'Ice': 'rgb(152,216,216)',\n",
    "                   'Dragon': 'rgb(112,56,248)',\n",
    "                   'Flying': 'rgb(168,144,240)',\n",
    "                   'Dark': 'rgb(112,88,72)',\n",
    "                   'Steel': 'rgb(184,184,208)'\n",
    "}    \n",
    "\n",
    "# mapping these colors to each pokemon    \n",
    "color_type = []\n",
    "for i in range(0,len(dataf)):\n",
    "    p_type = dataf.iloc[i].type\n",
    "    color_item = color_type_dict[p_type]\n",
    "    col = color_item\n",
    "    color_type.append(col)\n",
    "    \n",
    "dataf['color_type'] = color_type"
   ]
  },
  {
   "cell_type": "code",
   "execution_count": null,
   "metadata": {
    "ExecuteTime": {
     "end_time": "2018-07-10T08:39:09.192223Z",
     "start_time": "2018-07-10T08:39:07.561612Z"
    },
    "hidden": true
   },
   "outputs": [],
   "source": [
    "trace2 = []\n",
    "\n",
    "for col_type in np.unique(color_type):\n",
    "    dataf_type_subset = dataf.loc[dataf.color_type == col_type]\n",
    "    trace2.append(\n",
    "        go.Scatter3d(\n",
    "        x=dataf_type_subset['r'],\n",
    "        y=dataf_type_subset['b'],\n",
    "        z=dataf_type_subset['g'],\n",
    "        mode='markers',\n",
    "        marker=dict(\n",
    "            color=dataf_type_subset['color_type'],\n",
    "            size=5,\n",
    "            line=dict(\n",
    "                color= dataf_type_subset['color_type'],\n",
    "                width=0.5\n",
    "            ),\n",
    "            opacity=0.8\n",
    "        ),\n",
    "        text = dataf_type_subset['type'],\n",
    "        name = dataf_type_subset.type.iloc[1]\n",
    "        )\n",
    "    )\n",
    "\n",
    "    \n",
    "data2 = [trace2]\n",
    "\n",
    "layout = go.Layout(\n",
    "    margin=dict(\n",
    "        l=0,\n",
    "        r=0,\n",
    "        b=0,\n",
    "        t=0\n",
    "    ),\n",
    "    scene = dict(\n",
    "        xaxis = dict(title = 'Red'),\n",
    "        yaxis = dict(title = 'Blue'),\n",
    "        zaxis = dict(title = 'Green')\n",
    "    ),\n",
    "    paper_bgcolor='rgba(0,0,0,0)'\n",
    ")\n",
    "\n",
    "fig2 = go.Figure(data=trace2, layout=layout)\n",
    "py.iplot(fig2, filename='simple-3d-scatter2')"
   ]
  },
  {
   "cell_type": "markdown",
   "metadata": {
    "hidden": true
   },
   "source": [
    "The pokemon are in the same space as the previous graph. The difference here is that the color of the points changed to represent the pokemon's type. Since there are so many different types in such a small plot, it's difficult to see clear clusters. However, there are distinct clusters; for example, you can see that fire types and water types are on opposite ends. Just out of curiousity I'll try different machine learning methods to see how useful of a feature color is."
   ]
  },
  {
   "cell_type": "markdown",
   "metadata": {},
   "source": [
    "# Building a Predictive Model"
   ]
  },
  {
   "cell_type": "markdown",
   "metadata": {},
   "source": [
    "Just a reminder, we'll be trying to predict a pokemon's type by using their base stats, evolution stage, and color.\n",
    "The first thing that should be done is to establish a benchmark to beat. This benchmark will be the accuracy of a \"dumb\" model that predicts only the most frequent type. Since the most frequent type is water, this \"dumb\" model will have an accuracy of about 116/807 $\\approx$ 14%. "
   ]
  },
  {
   "cell_type": "markdown",
   "metadata": {},
   "source": [
    "Usually before feeding data into machine learning algorithms, the data must be preprocessed and formatted correctly to achieve the best results. However, it's a good thing that the data is already in the perfect format that we need, so no further preprocessing will be necessary. "
   ]
  },
  {
   "cell_type": "markdown",
   "metadata": {},
   "source": [
    "We'll split up the data into a training set (80%) and a validation set (20%) to see how well the model generalizes to data it hasn't seen before."
   ]
  },
  {
   "cell_type": "code",
   "execution_count": 2,
   "metadata": {
    "ExecuteTime": {
     "end_time": "2018-07-10T10:44:23.411910Z",
     "start_time": "2018-07-10T10:44:23.332973Z"
    }
   },
   "outputs": [],
   "source": [
    "from sklearn.linear_model import LogisticRegression\n",
    "from sklearn.neighbors import KNeighborsClassifier\n",
    "from sklearn.ensemble import RandomForestClassifier\n",
    "from xgboost import XGBClassifier\n",
    "\n",
    "from sklearn.model_selection import cross_val_score\n",
    "from sklearn.metrics import accuracy_score\n",
    "from sklearn.model_selection import train_test_split\n",
    "\n",
    "from sklearn.model_selection import GridSearchCV\n",
    "\n",
    "# xgboost causing warnings\n",
    "import warnings\n",
    "warnings.filterwarnings('ignore')"
   ]
  },
  {
   "cell_type": "code",
   "execution_count": 3,
   "metadata": {
    "ExecuteTime": {
     "end_time": "2018-07-10T10:44:23.423623Z",
     "start_time": "2018-07-10T10:44:23.413202Z"
    }
   },
   "outputs": [],
   "source": [
    "dataf = pd.read_csv('data_w_color.csv')\n",
    "\n",
    "# first drop all unnecessary variables\n",
    "dataf_clean = dataf.drop(['types', 'color', 'pokemon'], axis=1)\n",
    "X = dataf_clean.drop('type', axis=1) # feature matrix\n",
    "y = dataf_clean.type # target vector"
   ]
  },
  {
   "cell_type": "code",
   "execution_count": 4,
   "metadata": {
    "ExecuteTime": {
     "end_time": "2018-07-10T10:44:23.431745Z",
     "start_time": "2018-07-10T10:44:23.424979Z"
    }
   },
   "outputs": [
    {
     "name": "stdout",
     "output_type": "stream",
     "text": [
      "The shape of X_train is  (645, 10)\n",
      "The shape of y_train is  (645,)\n",
      "The shape of X_test is  (162, 10)\n",
      "The shape of y_test is  (162,)\n"
     ]
    }
   ],
   "source": [
    "# splitting the data into training and testing sets\n",
    "X_train, X_test, y_train, y_test = train_test_split(X, y, test_size=0.2, random_state = 123, stratify = y)\n",
    "print('The shape of X_train is ', X_train.shape)\n",
    "print('The shape of y_train is ', y_train.shape)\n",
    "print('The shape of X_test is ', X_test.shape)\n",
    "print('The shape of y_test is ', y_test.shape)"
   ]
  },
  {
   "cell_type": "markdown",
   "metadata": {},
   "source": [
    "Let's first try out a few classical machine learning algorithms to see which ones perform well by looking at their cross validation scores"
   ]
  },
  {
   "cell_type": "code",
   "execution_count": null,
   "metadata": {
    "ExecuteTime": {
     "end_time": "2018-07-02T23:28:06.121384Z",
     "start_time": "2018-07-02T23:28:01.577352Z"
    }
   },
   "outputs": [],
   "source": [
    "models = []\n",
    "models.append(('LogisticRegression', LogisticRegression()))\n",
    "models.append((\"KNeighborsClassifier\", KNeighborsClassifier(n_neighbors=10)))\n",
    "models.append((\"RandomForestClassifier\", RandomForestClassifier(n_estimators=200,\n",
    "                                                                criterion='gini',\n",
    "                                                                    max_features=3)))\n",
    "models.append(('XGBoost', XGBClassifier(learning_rate=0.05, n_estimators=100,\n",
    "                                       max_depth= 5)))\n",
    "\n",
    "results = []\n",
    "names = []\n",
    "for name,model in models:\n",
    "    result = cross_val_score(model, X_train, y_train, cv=5)\n",
    "    names.append(name)\n",
    "    results.append(result)\n",
    "\n",
    "mean_results = []\n",
    "sd_results = []\n",
    "for model in results:\n",
    "    mean_results.append(model.mean())\n",
    "    sd_results.append(model.std())\n",
    "\n",
    "results_df = pd.DataFrame({'Model': names,\n",
    "              'Mean Classification Rate': mean_results,\n",
    "              'Standard Deviation': sd_results\n",
    "             })\n",
    "results_df.sort_values(by = 'Mean Classification Rate', ascending=False) # returning sorted dataframe"
   ]
  },
  {
   "cell_type": "markdown",
   "metadata": {},
   "source": [
    "Seems that a simple logistic regression has the highest cross-validation score. Let's see how they do on the held-out validation set."
   ]
  },
  {
   "cell_type": "code",
   "execution_count": null,
   "metadata": {
    "ExecuteTime": {
     "end_time": "2018-07-02T23:26:04.873702Z",
     "start_time": "2018-07-02T23:26:03.721062Z"
    }
   },
   "outputs": [],
   "source": [
    "results = []\n",
    "names = []\n",
    "for name, model in models:\n",
    "    model_fit = model.fit(X_train, y_train)\n",
    "    pred = model_fit.predict(X_test)\n",
    "    result = accuracy_score(pred, y_test)\n",
    "    results.append(result)\n",
    "    names.append(name)\n",
    "\n",
    "results_df = pd.DataFrame({\n",
    "    'Model': names,\n",
    "    'Classification Rate': results\n",
    "})\n",
    "\n",
    "results_df.sort_values(by = 'Classification Rate', ascending = False)"
   ]
  },
  {
   "cell_type": "markdown",
   "metadata": {},
   "source": [
    "Now let's try out neural networks, which I think are the coolest things ever."
   ]
  },
  {
   "cell_type": "code",
   "execution_count": 5,
   "metadata": {
    "ExecuteTime": {
     "end_time": "2018-07-10T10:44:28.827049Z",
     "start_time": "2018-07-10T10:44:28.022279Z"
    }
   },
   "outputs": [
    {
     "name": "stderr",
     "output_type": "stream",
     "text": [
      "Using TensorFlow backend.\n"
     ]
    }
   ],
   "source": [
    "from keras.models import Sequential\n",
    "from keras.layers import Dense, Dropout\n",
    "from keras.optimizers import Adam\n",
    "from keras.wrappers.scikit_learn import KerasClassifier\n",
    "from sklearn.cross_validation import cross_val_score\n",
    "from sklearn.preprocessing import StandardScaler\n",
    "\n",
    "import keras.backend as K"
   ]
  },
  {
   "cell_type": "code",
   "execution_count": 7,
   "metadata": {
    "ExecuteTime": {
     "end_time": "2018-07-10T10:44:33.418634Z",
     "start_time": "2018-07-10T10:44:33.384219Z"
    }
   },
   "outputs": [],
   "source": [
    "K.clear_session()\n",
    "\n",
    "sc = StandardScaler()\n",
    "X_train_sc = sc.fit_transform(X_train)\n",
    "X_test_sc = sc.transform(X_test)\n",
    "\n",
    "\n",
    "def build_nnet():\n",
    "    nnet = Sequential()\n",
    "    nnet.add(Dense(256, kernel_initializer= 'normal', input_shape = (10,), activation = 'relu'))\n",
    "    nnet.add(Dropout(0.5))\n",
    "    nnet.add(Dense(256, kernel_initializer= 'normal',activation = 'relu'))\n",
    "    nnet.add(Dropout(0.5))\n",
    "\n",
    "    nnet.add(Dense(18, activation = 'softmax'))\n",
    "    nnet.compile(Adam(lr=0.001), \n",
    "                loss = 'categorical_crossentropy',\n",
    "                metrics = ['accuracy'])\n",
    "    return nnet\n",
    "\n",
    "y_train_cat = pd.get_dummies(y_train)\n",
    "y_test_cat = pd.get_dummies(y_test)\n",
    "nnet = KerasClassifier(build_fn = build_nnet, epochs = 100, verbose =0)"
   ]
  },
  {
   "cell_type": "code",
   "execution_count": null,
   "metadata": {
    "ExecuteTime": {
     "end_time": "2018-07-03T00:04:15.388490Z",
     "start_time": "2018-07-03T00:04:03.557930Z"
    }
   },
   "outputs": [],
   "source": [
    "cv_score = cross_val_score(nnet, X_train, y_train_cat)\n",
    "print('The cross-validation scores for this neural network are: ', cv_score)\n",
    "print('The average cross-validation score for this neural network is: ', cv_score.mean())"
   ]
  },
  {
   "cell_type": "code",
   "execution_count": 8,
   "metadata": {
    "ExecuteTime": {
     "end_time": "2018-07-10T10:44:39.804833Z",
     "start_time": "2018-07-10T10:44:34.480240Z"
    }
   },
   "outputs": [
    {
     "name": "stdout",
     "output_type": "stream",
     "text": [
      "Epoch 1/80\n",
      "645/645 [==============================] - 1s 1ms/step - loss: 12.3037 - acc: 0.0791\n",
      "Epoch 2/80\n",
      "645/645 [==============================] - 0s 80us/step - loss: 11.3461 - acc: 0.1225\n",
      "Epoch 3/80\n",
      "645/645 [==============================] - 0s 87us/step - loss: 9.6428 - acc: 0.1132\n",
      "Epoch 4/80\n",
      "645/645 [==============================] - 0s 79us/step - loss: 5.5503 - acc: 0.1349\n",
      "Epoch 5/80\n",
      "645/645 [==============================] - 0s 67us/step - loss: 3.6610 - acc: 0.1178\n",
      "Epoch 6/80\n",
      "645/645 [==============================] - 0s 72us/step - loss: 2.9599 - acc: 0.1473\n",
      "Epoch 7/80\n",
      "645/645 [==============================] - 0s 78us/step - loss: 2.8044 - acc: 0.1674\n",
      "Epoch 8/80\n",
      "645/645 [==============================] - 0s 80us/step - loss: 2.7332 - acc: 0.2093\n",
      "Epoch 9/80\n",
      "645/645 [==============================] - 0s 79us/step - loss: 2.6991 - acc: 0.1907\n",
      "Epoch 10/80\n",
      "645/645 [==============================] - 0s 83us/step - loss: 2.6739 - acc: 0.2078\n",
      "Epoch 11/80\n",
      "645/645 [==============================] - 0s 76us/step - loss: 2.6189 - acc: 0.2295\n",
      "Epoch 12/80\n",
      "645/645 [==============================] - 0s 79us/step - loss: 2.5424 - acc: 0.2372\n",
      "Epoch 13/80\n",
      "645/645 [==============================] - 0s 69us/step - loss: 2.5441 - acc: 0.2403\n",
      "Epoch 14/80\n",
      "645/645 [==============================] - 0s 87us/step - loss: 2.5338 - acc: 0.2481\n",
      "Epoch 15/80\n",
      "645/645 [==============================] - 0s 95us/step - loss: 2.5372 - acc: 0.2279\n",
      "Epoch 16/80\n",
      "645/645 [==============================] - 0s 108us/step - loss: 2.4419 - acc: 0.2574\n",
      "Epoch 17/80\n",
      "645/645 [==============================] - 0s 91us/step - loss: 2.4958 - acc: 0.2605\n",
      "Epoch 18/80\n",
      "645/645 [==============================] - 0s 79us/step - loss: 2.4727 - acc: 0.2434\n",
      "Epoch 19/80\n",
      "645/645 [==============================] - 0s 77us/step - loss: 2.4953 - acc: 0.2682\n",
      "Epoch 20/80\n",
      "645/645 [==============================] - 0s 77us/step - loss: 2.4448 - acc: 0.2636\n",
      "Epoch 21/80\n",
      "645/645 [==============================] - 0s 100us/step - loss: 2.3620 - acc: 0.2791\n",
      "Epoch 22/80\n",
      "645/645 [==============================] - 0s 94us/step - loss: 2.4010 - acc: 0.2651\n",
      "Epoch 23/80\n",
      "645/645 [==============================] - 0s 80us/step - loss: 2.3758 - acc: 0.3039\n",
      "Epoch 24/80\n",
      "645/645 [==============================] - 0s 94us/step - loss: 2.3665 - acc: 0.2713\n",
      "Epoch 25/80\n",
      "645/645 [==============================] - 0s 72us/step - loss: 2.3651 - acc: 0.2729\n",
      "Epoch 26/80\n",
      "645/645 [==============================] - 0s 99us/step - loss: 2.3148 - acc: 0.3225\n",
      "Epoch 27/80\n",
      "645/645 [==============================] - 0s 103us/step - loss: 2.3904 - acc: 0.2667\n",
      "Epoch 28/80\n",
      "645/645 [==============================] - 0s 99us/step - loss: 2.3102 - acc: 0.2837\n",
      "Epoch 29/80\n",
      "645/645 [==============================] - 0s 100us/step - loss: 2.3654 - acc: 0.2729\n",
      "Epoch 30/80\n",
      "645/645 [==============================] - 0s 117us/step - loss: 2.3529 - acc: 0.2853\n",
      "Epoch 31/80\n",
      "645/645 [==============================] - 0s 69us/step - loss: 2.2410 - acc: 0.3008\n",
      "Epoch 32/80\n",
      "645/645 [==============================] - 0s 92us/step - loss: 2.2951 - acc: 0.2915\n",
      "Epoch 33/80\n",
      "645/645 [==============================] - 0s 92us/step - loss: 2.3317 - acc: 0.2868\n",
      "Epoch 34/80\n",
      "645/645 [==============================] - 0s 92us/step - loss: 2.3652 - acc: 0.2589\n",
      "Epoch 35/80\n",
      "645/645 [==============================] - 0s 83us/step - loss: 2.2701 - acc: 0.2992\n",
      "Epoch 36/80\n",
      "645/645 [==============================] - 0s 95us/step - loss: 2.2456 - acc: 0.3240\n",
      "Epoch 37/80\n",
      "645/645 [==============================] - 0s 85us/step - loss: 2.2986 - acc: 0.3008\n",
      "Epoch 38/80\n",
      "645/645 [==============================] - 0s 90us/step - loss: 2.2597 - acc: 0.3023\n",
      "Epoch 39/80\n",
      "645/645 [==============================] - 0s 74us/step - loss: 2.2408 - acc: 0.3178\n",
      "Epoch 40/80\n",
      "645/645 [==============================] - 0s 75us/step - loss: 2.2100 - acc: 0.3488\n",
      "Epoch 41/80\n",
      "645/645 [==============================] - 0s 76us/step - loss: 2.2368 - acc: 0.3240\n",
      "Epoch 42/80\n",
      "645/645 [==============================] - 0s 93us/step - loss: 2.2734 - acc: 0.3147\n",
      "Epoch 43/80\n",
      "645/645 [==============================] - 0s 75us/step - loss: 2.2316 - acc: 0.3163\n",
      "Epoch 44/80\n",
      "645/645 [==============================] - 0s 80us/step - loss: 2.2627 - acc: 0.2899\n",
      "Epoch 45/80\n",
      "645/645 [==============================] - 0s 94us/step - loss: 2.2389 - acc: 0.3395\n",
      "Epoch 46/80\n",
      "645/645 [==============================] - 0s 84us/step - loss: 2.2372 - acc: 0.3178\n",
      "Epoch 47/80\n",
      "645/645 [==============================] - 0s 78us/step - loss: 2.1833 - acc: 0.3380\n",
      "Epoch 48/80\n",
      "645/645 [==============================] - 0s 72us/step - loss: 2.1881 - acc: 0.3318\n",
      "Epoch 49/80\n",
      "645/645 [==============================] - 0s 80us/step - loss: 2.2119 - acc: 0.3163\n",
      "Epoch 50/80\n",
      "645/645 [==============================] - 0s 79us/step - loss: 2.1610 - acc: 0.3302\n",
      "Epoch 51/80\n",
      "645/645 [==============================] - 0s 76us/step - loss: 2.2114 - acc: 0.3194\n",
      "Epoch 52/80\n",
      "645/645 [==============================] - 0s 79us/step - loss: 2.2215 - acc: 0.2977\n",
      "Epoch 53/80\n",
      "645/645 [==============================] - 0s 83us/step - loss: 2.2154 - acc: 0.3163\n",
      "Epoch 54/80\n",
      "645/645 [==============================] - 0s 80us/step - loss: 2.2287 - acc: 0.3333\n",
      "Epoch 55/80\n",
      "645/645 [==============================] - 0s 76us/step - loss: 2.1789 - acc: 0.3380\n",
      "Epoch 56/80\n",
      "645/645 [==============================] - 0s 76us/step - loss: 2.1723 - acc: 0.3271\n",
      "Epoch 57/80\n",
      "645/645 [==============================] - 0s 65us/step - loss: 2.1602 - acc: 0.3349\n",
      "Epoch 58/80\n",
      "645/645 [==============================] - 0s 75us/step - loss: 2.1659 - acc: 0.3101\n",
      "Epoch 59/80\n",
      "645/645 [==============================] - 0s 71us/step - loss: 2.1405 - acc: 0.3364\n",
      "Epoch 60/80\n",
      "645/645 [==============================] - 0s 96us/step - loss: 2.1172 - acc: 0.3488\n",
      "Epoch 61/80\n",
      "645/645 [==============================] - 0s 79us/step - loss: 2.1211 - acc: 0.3488\n",
      "Epoch 62/80\n",
      "645/645 [==============================] - 0s 71us/step - loss: 2.1312 - acc: 0.3333\n",
      "Epoch 63/80\n",
      "645/645 [==============================] - 0s 69us/step - loss: 2.1194 - acc: 0.3581\n",
      "Epoch 64/80\n",
      "645/645 [==============================] - 0s 75us/step - loss: 2.1498 - acc: 0.3256\n",
      "Epoch 65/80\n",
      "645/645 [==============================] - 0s 81us/step - loss: 2.1744 - acc: 0.3318\n",
      "Epoch 66/80\n",
      "645/645 [==============================] - 0s 84us/step - loss: 2.1025 - acc: 0.3473\n",
      "Epoch 67/80\n",
      "645/645 [==============================] - 0s 77us/step - loss: 2.1199 - acc: 0.3318\n",
      "Epoch 68/80\n",
      "645/645 [==============================] - 0s 71us/step - loss: 2.1198 - acc: 0.3426\n",
      "Epoch 69/80\n",
      "645/645 [==============================] - 0s 77us/step - loss: 2.0663 - acc: 0.3457\n",
      "Epoch 70/80\n",
      "645/645 [==============================] - 0s 77us/step - loss: 2.1209 - acc: 0.3256\n",
      "Epoch 71/80\n",
      "645/645 [==============================] - 0s 74us/step - loss: 2.1142 - acc: 0.3457\n",
      "Epoch 72/80\n",
      "645/645 [==============================] - 0s 70us/step - loss: 2.0976 - acc: 0.3225\n",
      "Epoch 73/80\n",
      "645/645 [==============================] - 0s 74us/step - loss: 2.0727 - acc: 0.3442\n",
      "Epoch 74/80\n",
      "645/645 [==============================] - 0s 80us/step - loss: 2.0778 - acc: 0.3674\n",
      "Epoch 75/80\n",
      "645/645 [==============================] - 0s 83us/step - loss: 2.0883 - acc: 0.3473\n",
      "Epoch 76/80\n",
      "645/645 [==============================] - 0s 66us/step - loss: 2.0925 - acc: 0.3504\n",
      "Epoch 77/80\n",
      "645/645 [==============================] - 0s 77us/step - loss: 2.0516 - acc: 0.3705\n",
      "Epoch 78/80\n",
      "645/645 [==============================] - 0s 73us/step - loss: 2.0620 - acc: 0.3690\n",
      "Epoch 79/80\n",
      "645/645 [==============================] - 0s 66us/step - loss: 2.1155 - acc: 0.3473\n",
      "Epoch 80/80\n",
      "645/645 [==============================] - 0s 76us/step - loss: 2.0209 - acc: 0.3628\n"
     ]
    },
    {
     "data": {
      "text/plain": [
       "<keras.callbacks.History at 0x7feae5c92588>"
      ]
     },
     "execution_count": 8,
     "metadata": {},
     "output_type": "execute_result"
    },
    {
     "data": {
      "text/plain": [
       "0.30246913580246915"
      ]
     },
     "execution_count": 8,
     "metadata": {},
     "output_type": "execute_result"
    }
   ],
   "source": [
    "nnet.fit(X_train, y_train_cat, epochs = 80, verbose=1, batch_size=32)\n",
    "\n",
    "pred = nnet.predict(X_test)\n",
    "#pred\n",
    "accuracy_score(np.asarray(y_test_cat).argmax(axis=1),pred)"
   ]
  },
  {
   "cell_type": "markdown",
   "metadata": {},
   "source": [
    "# Conclusion"
   ]
  },
  {
   "cell_type": "markdown",
   "metadata": {},
   "source": []
  },
  {
   "cell_type": "markdown",
   "metadata": {},
   "source": [
    "Even though these models didn't yield world-class results, I think it's quite an impressive improvement over the benchmark. It's highly likely that these variables aren't very good predictors for type. There are a few things that likely could have improved the results. \n",
    "1. We could have collected more data on each pokemon, such as their height and weight, since certain types, such as steel and rock, are more heavier than others, such as grass and bug. \n",
    "2. We could have fine-tuned the algorithms' hyperparameters through methods such as random search or grid search.\n",
    "3. \n",
    "\n",
    "Overall, from data collection to exploration to analysis, this was a challenging but fun little experiment for me to practice my data analysis and machine learning skills :)."
   ]
  },
  {
   "cell_type": "code",
   "execution_count": null,
   "metadata": {},
   "outputs": [],
   "source": []
  }
 ],
 "metadata": {
  "kernelspec": {
   "display_name": "Python 3",
   "language": "python",
   "name": "python3"
  },
  "language_info": {
   "codemirror_mode": {
    "name": "ipython",
    "version": 3
   },
   "file_extension": ".py",
   "mimetype": "text/x-python",
   "name": "python",
   "nbconvert_exporter": "python",
   "pygments_lexer": "ipython3",
   "version": "3.6.5"
  },
  "toc": {
   "base_numbering": 1,
   "nav_menu": {},
   "number_sections": true,
   "sideBar": true,
   "skip_h1_title": false,
   "title_cell": "Table of Contents",
   "title_sidebar": "Contents",
   "toc_cell": false,
   "toc_position": {
    "height": "calc(100% - 180px)",
    "left": "10px",
    "top": "150px",
    "width": "222px"
   },
   "toc_section_display": true,
   "toc_window_display": true
  },
  "varInspector": {
   "cols": {
    "lenName": 16,
    "lenType": 16,
    "lenVar": "400"
   },
   "kernels_config": {
    "python": {
     "delete_cmd_postfix": "",
     "delete_cmd_prefix": "del ",
     "library": "var_list.py",
     "varRefreshCmd": "print(var_dic_list())"
    },
    "r": {
     "delete_cmd_postfix": ") ",
     "delete_cmd_prefix": "rm(",
     "library": "var_list.r",
     "varRefreshCmd": "cat(var_dic_list()) "
    }
   },
   "types_to_exclude": [
    "module",
    "function",
    "builtin_function_or_method",
    "instance",
    "_Feature"
   ],
   "window_display": false
  }
 },
 "nbformat": 4,
 "nbformat_minor": 2
}
