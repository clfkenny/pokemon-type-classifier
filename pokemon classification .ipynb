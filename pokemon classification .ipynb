{
 "cells": [
  {
   "cell_type": "markdown",
   "metadata": {},
   "source": [
    "## Table of Contents\n",
    "\n",
    "1. [Obtaining the Data](#obtaining-the-data)\n",
    "2. [Exploratory Data Analysis](#exploratory-data-analysis)\n",
    "3. [Obtaining Main Color of Pokemon](#obtaining-main-color-of-pokemon)\n",
    "4. [Building a Predictive Model](#building-a-predictive-model)\n",
    "5. [Conclusion](#Conclusion)"
   ]
  },
  {
   "cell_type": "markdown",
   "metadata": {
    "ExecuteTime": {
     "end_time": "2018-06-25T08:34:26.012233Z",
     "start_time": "2018-06-25T08:34:26.010252Z"
    }
   },
   "source": [
    "# Obtaining the Data"
   ]
  },
  {
   "cell_type": "markdown",
   "metadata": {},
   "source": [
    "Before we can analyze data, we first need to obtain something to analyze. There are a lot of great websites that have the information we need, but for this example we'll be going with [Pokemon Database](https://www.pokemondb.net/pokedex/all). Instead of manually iterating through every single page writing down information about their battle stats, a much more efficient way would be to program a webscraper to automate the data collection. We'll be using Python's `resquest` module to send requests to the website and `BeautifulSoup` to parse the data. Let's begin. "
   ]
  },
  {
   "cell_type": "code",
   "execution_count": null,
   "metadata": {
    "ExecuteTime": {
     "end_time": "2018-07-10T07:43:06.068791Z",
     "start_time": "2018-07-10T07:43:05.872754Z"
    }
   },
   "outputs": [],
   "source": [
    "# import modules for web scraping\n",
    "import requests\n",
    "from bs4 import BeautifulSoup\n",
    "from tqdm import tqdm # add a progress bar for loops"
   ]
  },
  {
   "cell_type": "code",
   "execution_count": null,
   "metadata": {
    "ExecuteTime": {
     "end_time": "2018-07-10T07:43:13.779306Z",
     "start_time": "2018-07-10T07:43:12.588433Z"
    }
   },
   "outputs": [],
   "source": [
    "main_page = requests.get('https://pokemondb.net/pokedex/all')\n",
    "soup = BeautifulSoup(main_page.content, 'html.parser')\n",
    "\n",
    "poke_html_list = soup.select('a.ent-name')\n",
    "poke_list = []\n",
    "for poke in poke_html_list:\n",
    "    if poke['href'] not in poke_list: poke_list.append(poke['href'])"
   ]
  },
  {
   "cell_type": "code",
   "execution_count": null,
   "metadata": {
    "ExecuteTime": {
     "end_time": "2018-07-10T08:21:10.541223Z",
     "start_time": "2018-07-10T08:16:56.649871Z"
    },
    "scrolled": true
   },
   "outputs": [],
   "source": [
    "pokemon_list = []\n",
    "base_stats = []\n",
    "type_ = []\n",
    "evo_stage_list = []\n",
    "\n",
    "for pokemon in tqdm(poke_list):\n",
    "    page2 = requests.get('https://pokemondb.net' + pokemon)\n",
    "    soup2 = BeautifulSoup(page2.content, 'html.parser')\n",
    "    \n",
    "    stats = soup2.select('table.vitals-table tbody td.cell-num') #selecting all the numbers\n",
    "    stat_numbers = []\n",
    "    for index, i in enumerate(stats):\n",
    "        if (index)%3 ==0: stat_numbers.append(i.text) #every 3 is one of the main stats\n",
    "    base_stats.append(stat_numbers)\n",
    "    \n",
    "    \n",
    "    types = soup2.select('table.vitals-table tbody tr a.type-icon')\n",
    "    ind_type = []\n",
    "    for i in types:\n",
    "        ind_type.append(i.text)\n",
    "    type_.append(list(set(ind_type)))\n",
    "\n",
    "    evo_list = soup2.select('div.infocard a.ent-name')\n",
    "    evo_list = list(map(str, evo_list))\n",
    "    evo_stage = [stage for stage, item in enumerate(evo_list) if pokemon+'\"' in item]\n",
    "    # if the list is empty, then that means there is no other evolutions, so just assign it '1'\n",
    "    try:\n",
    "        evo_stage_list.append(evo_stage[0] + 1)\n",
    "    except:\n",
    "        evo_stage_list.append(1)"
   ]
  },
  {
   "cell_type": "code",
   "execution_count": null,
   "metadata": {
    "ExecuteTime": {
     "end_time": "2018-07-10T08:21:45.624694Z",
     "start_time": "2018-07-10T08:21:45.594314Z"
    }
   },
   "outputs": [],
   "source": [
    "hp = []\n",
    "att = []\n",
    "defs = []\n",
    "spatt = []\n",
    "spdef = []\n",
    "spe = []\n",
    "\n",
    "for i in base_stats:\n",
    "    hp.append(i[0])\n",
    "    att.append(i[1])\n",
    "    defs.append(i[2])\n",
    "    spatt.append(i[3])\n",
    "    spdef.append(i[4])\n",
    "    spe.append(i[5])\n",
    "    \n",
    "first_type = []\n",
    "for i in type_:\n",
    "    first_type.append(i[0])\n",
    "\n",
    "import pandas as pd\n",
    "dataf = pd.DataFrame({'pokemon': [i.replace('/pokedex/', '') for i in poke_list],\n",
    "                      'hp': hp,\n",
    "                      'att': att,\n",
    "                      'defs': defs,\n",
    "                      'spatt': spatt,\n",
    "                      'spdef': spdef,\n",
    "                      'spe': spe,\n",
    "                      'type': first_type,\n",
    "                      'types': type_,\n",
    "                     'evo_stage': evo_stage_list})\n",
    "\n",
    "dataf = dataf[['pokemon']+list(dataf.drop('pokemon', axis=1).columns)] # moving pokemon column to the front\n",
    "dataf.to_csv('original_data.csv', index=False)"
   ]
  },
  {
   "cell_type": "markdown",
   "metadata": {},
   "source": [
    "This program iterates through all of the individual pokemon's unique page and collects their HP, Attack, Defense, Sp. Attack, Sp. Def, Speed, Types, and their Evolution Stage. Once the information is collected, the data is passed into a pandas `DataFrame` object so we get an organized and informative dataframe! This is what the first 10 rows look like:"
   ]
  },
  {
   "cell_type": "code",
   "execution_count": 19,
   "metadata": {
    "ExecuteTime": {
     "end_time": "2018-07-14T10:39:39.580057Z",
     "start_time": "2018-07-14T10:39:39.542823Z"
    }
   },
   "outputs": [
    {
     "data": {
      "text/html": [
       "<div>\n",
       "<style scoped>\n",
       "    .dataframe tbody tr th:only-of-type {\n",
       "        vertical-align: middle;\n",
       "    }\n",
       "\n",
       "    .dataframe tbody tr th {\n",
       "        vertical-align: top;\n",
       "    }\n",
       "\n",
       "    .dataframe thead th {\n",
       "        text-align: right;\n",
       "    }\n",
       "</style>\n",
       "<table border=\"1\" class=\"dataframe\">\n",
       "  <thead>\n",
       "    <tr style=\"text-align: right;\">\n",
       "      <th></th>\n",
       "      <th>pokemon</th>\n",
       "      <th>hp</th>\n",
       "      <th>att</th>\n",
       "      <th>defs</th>\n",
       "      <th>spatt</th>\n",
       "      <th>spdef</th>\n",
       "      <th>spe</th>\n",
       "      <th>type</th>\n",
       "      <th>types</th>\n",
       "      <th>evo_stage</th>\n",
       "      <th>r</th>\n",
       "      <th>g</th>\n",
       "      <th>b</th>\n",
       "      <th>color</th>\n",
       "    </tr>\n",
       "  </thead>\n",
       "  <tbody>\n",
       "    <tr>\n",
       "      <th>0</th>\n",
       "      <td>bulbasaur</td>\n",
       "      <td>45</td>\n",
       "      <td>49</td>\n",
       "      <td>49</td>\n",
       "      <td>65</td>\n",
       "      <td>65</td>\n",
       "      <td>45</td>\n",
       "      <td>Grass</td>\n",
       "      <td>['Grass', 'Poison']</td>\n",
       "      <td>1</td>\n",
       "      <td>98</td>\n",
       "      <td>153</td>\n",
       "      <td>119</td>\n",
       "      <td>rgb(98, 153, 119)</td>\n",
       "    </tr>\n",
       "    <tr>\n",
       "      <th>1</th>\n",
       "      <td>ivysaur</td>\n",
       "      <td>60</td>\n",
       "      <td>62</td>\n",
       "      <td>63</td>\n",
       "      <td>80</td>\n",
       "      <td>80</td>\n",
       "      <td>60</td>\n",
       "      <td>Grass</td>\n",
       "      <td>['Grass', 'Poison']</td>\n",
       "      <td>2</td>\n",
       "      <td>95</td>\n",
       "      <td>133</td>\n",
       "      <td>133</td>\n",
       "      <td>rgb(95, 133, 133)</td>\n",
       "    </tr>\n",
       "    <tr>\n",
       "      <th>2</th>\n",
       "      <td>venusaur</td>\n",
       "      <td>80</td>\n",
       "      <td>82</td>\n",
       "      <td>83</td>\n",
       "      <td>100</td>\n",
       "      <td>100</td>\n",
       "      <td>80</td>\n",
       "      <td>Grass</td>\n",
       "      <td>['Grass', 'Poison']</td>\n",
       "      <td>3</td>\n",
       "      <td>98</td>\n",
       "      <td>113</td>\n",
       "      <td>107</td>\n",
       "      <td>rgb(98, 113, 107)</td>\n",
       "    </tr>\n",
       "    <tr>\n",
       "      <th>3</th>\n",
       "      <td>charmander</td>\n",
       "      <td>39</td>\n",
       "      <td>52</td>\n",
       "      <td>43</td>\n",
       "      <td>60</td>\n",
       "      <td>50</td>\n",
       "      <td>65</td>\n",
       "      <td>Fire</td>\n",
       "      <td>['Fire']</td>\n",
       "      <td>1</td>\n",
       "      <td>188</td>\n",
       "      <td>138</td>\n",
       "      <td>97</td>\n",
       "      <td>rgb(188, 138, 97)</td>\n",
       "    </tr>\n",
       "    <tr>\n",
       "      <th>4</th>\n",
       "      <td>charmeleon</td>\n",
       "      <td>58</td>\n",
       "      <td>64</td>\n",
       "      <td>58</td>\n",
       "      <td>80</td>\n",
       "      <td>65</td>\n",
       "      <td>80</td>\n",
       "      <td>Fire</td>\n",
       "      <td>['Fire']</td>\n",
       "      <td>2</td>\n",
       "      <td>191</td>\n",
       "      <td>102</td>\n",
       "      <td>84</td>\n",
       "      <td>rgb(191, 102, 84)</td>\n",
       "    </tr>\n",
       "    <tr>\n",
       "      <th>5</th>\n",
       "      <td>charizard</td>\n",
       "      <td>78</td>\n",
       "      <td>84</td>\n",
       "      <td>78</td>\n",
       "      <td>109</td>\n",
       "      <td>85</td>\n",
       "      <td>100</td>\n",
       "      <td>Fire</td>\n",
       "      <td>['Fire', 'Flying', 'Dragon']</td>\n",
       "      <td>3</td>\n",
       "      <td>146</td>\n",
       "      <td>130</td>\n",
       "      <td>96</td>\n",
       "      <td>rgb(146, 130, 96)</td>\n",
       "    </tr>\n",
       "    <tr>\n",
       "      <th>6</th>\n",
       "      <td>squirtle</td>\n",
       "      <td>44</td>\n",
       "      <td>48</td>\n",
       "      <td>65</td>\n",
       "      <td>50</td>\n",
       "      <td>64</td>\n",
       "      <td>43</td>\n",
       "      <td>Water</td>\n",
       "      <td>['Water']</td>\n",
       "      <td>1</td>\n",
       "      <td>110</td>\n",
       "      <td>151</td>\n",
       "      <td>164</td>\n",
       "      <td>rgb(110, 151, 164)</td>\n",
       "    </tr>\n",
       "    <tr>\n",
       "      <th>7</th>\n",
       "      <td>wartortle</td>\n",
       "      <td>59</td>\n",
       "      <td>63</td>\n",
       "      <td>80</td>\n",
       "      <td>65</td>\n",
       "      <td>80</td>\n",
       "      <td>58</td>\n",
       "      <td>Water</td>\n",
       "      <td>['Water']</td>\n",
       "      <td>2</td>\n",
       "      <td>85</td>\n",
       "      <td>106</td>\n",
       "      <td>138</td>\n",
       "      <td>rgb(85, 106, 138)</td>\n",
       "    </tr>\n",
       "    <tr>\n",
       "      <th>8</th>\n",
       "      <td>blastoise</td>\n",
       "      <td>79</td>\n",
       "      <td>83</td>\n",
       "      <td>100</td>\n",
       "      <td>85</td>\n",
       "      <td>105</td>\n",
       "      <td>78</td>\n",
       "      <td>Water</td>\n",
       "      <td>['Water']</td>\n",
       "      <td>3</td>\n",
       "      <td>110</td>\n",
       "      <td>109</td>\n",
       "      <td>115</td>\n",
       "      <td>rgb(110, 109, 115)</td>\n",
       "    </tr>\n",
       "    <tr>\n",
       "      <th>9</th>\n",
       "      <td>caterpie</td>\n",
       "      <td>45</td>\n",
       "      <td>30</td>\n",
       "      <td>35</td>\n",
       "      <td>20</td>\n",
       "      <td>20</td>\n",
       "      <td>45</td>\n",
       "      <td>Bug</td>\n",
       "      <td>['Bug']</td>\n",
       "      <td>1</td>\n",
       "      <td>141</td>\n",
       "      <td>152</td>\n",
       "      <td>90</td>\n",
       "      <td>rgb(141, 152, 90)</td>\n",
       "    </tr>\n",
       "  </tbody>\n",
       "</table>\n",
       "</div>"
      ],
      "text/plain": [
       "      pokemon  hp  att  defs  spatt  spdef  spe   type  \\\n",
       "0   bulbasaur  45   49    49     65     65   45  Grass   \n",
       "1     ivysaur  60   62    63     80     80   60  Grass   \n",
       "2    venusaur  80   82    83    100    100   80  Grass   \n",
       "3  charmander  39   52    43     60     50   65   Fire   \n",
       "4  charmeleon  58   64    58     80     65   80   Fire   \n",
       "5   charizard  78   84    78    109     85  100   Fire   \n",
       "6    squirtle  44   48    65     50     64   43  Water   \n",
       "7   wartortle  59   63    80     65     80   58  Water   \n",
       "8   blastoise  79   83   100     85    105   78  Water   \n",
       "9    caterpie  45   30    35     20     20   45    Bug   \n",
       "\n",
       "                          types  evo_stage    r    g    b               color  \n",
       "0           ['Grass', 'Poison']          1   98  153  119   rgb(98, 153, 119)  \n",
       "1           ['Grass', 'Poison']          2   95  133  133   rgb(95, 133, 133)  \n",
       "2           ['Grass', 'Poison']          3   98  113  107   rgb(98, 113, 107)  \n",
       "3                      ['Fire']          1  188  138   97   rgb(188, 138, 97)  \n",
       "4                      ['Fire']          2  191  102   84   rgb(191, 102, 84)  \n",
       "5  ['Fire', 'Flying', 'Dragon']          3  146  130   96   rgb(146, 130, 96)  \n",
       "6                     ['Water']          1  110  151  164  rgb(110, 151, 164)  \n",
       "7                     ['Water']          2   85  106  138   rgb(85, 106, 138)  \n",
       "8                     ['Water']          3  110  109  115  rgb(110, 109, 115)  \n",
       "9                       ['Bug']          1  141  152   90   rgb(141, 152, 90)  "
      ]
     },
     "execution_count": 19,
     "metadata": {},
     "output_type": "execute_result"
    }
   ],
   "source": [
    "dataf.head(10)"
   ]
  },
  {
   "cell_type": "markdown",
   "metadata": {
    "ExecuteTime": {
     "end_time": "2018-06-29T04:10:03.851629Z",
     "start_time": "2018-06-29T04:10:03.831833Z"
    }
   },
   "source": [
    "The data is formatted such that the columns represent the different stats, types, and evolution stage while each row represents a different pokemon. This convenient `DataFrame` structure will allow us easily perform our analyses. Now that the computer has done all the hard work of collecting the data, let's dive in!"
   ]
  },
  {
   "cell_type": "markdown",
   "metadata": {},
   "source": [
    "# Exploratory Data Analysis"
   ]
  },
  {
   "cell_type": "code",
   "execution_count": 1,
   "metadata": {
    "ExecuteTime": {
     "end_time": "2018-07-14T11:34:53.477029Z",
     "start_time": "2018-07-14T11:34:51.701479Z"
    }
   },
   "outputs": [],
   "source": [
    "# importing our data exploration modules\n",
    "import pandas as pd\n",
    "import numpy as np\n",
    "import matplotlib.pyplot as plt\n",
    "import seaborn as sns\n",
    "%matplotlib inline\n",
    "plt.rcParams.update({'font.size': 20}) # to increase matplotlib's font size\n",
    "sns.set_style(\"darkgrid\") # set plot styling"
   ]
  },
  {
   "cell_type": "markdown",
   "metadata": {},
   "source": [
    "We'll be using `pandas` for all of our data manipulation needs. For visualizations, we'll be using `seaborn`, which is a statisical data visualization library that uses `matplotlib`. To pass the data into `seaborn`, we first need to \"melt\" the data so that it is in *long* format rather than *wide*. This means that there will be a single column called `stats` rather than having each stat as a separate column."
   ]
  },
  {
   "cell_type": "code",
   "execution_count": 2,
   "metadata": {
    "ExecuteTime": {
     "end_time": "2018-07-14T11:34:56.564097Z",
     "start_time": "2018-07-14T11:34:56.502826Z"
    }
   },
   "outputs": [
    {
     "data": {
      "text/html": [
       "<div>\n",
       "<style scoped>\n",
       "    .dataframe tbody tr th:only-of-type {\n",
       "        vertical-align: middle;\n",
       "    }\n",
       "\n",
       "    .dataframe tbody tr th {\n",
       "        vertical-align: top;\n",
       "    }\n",
       "\n",
       "    .dataframe thead th {\n",
       "        text-align: right;\n",
       "    }\n",
       "</style>\n",
       "<table border=\"1\" class=\"dataframe\">\n",
       "  <thead>\n",
       "    <tr style=\"text-align: right;\">\n",
       "      <th></th>\n",
       "      <th>pokemon</th>\n",
       "      <th>type</th>\n",
       "      <th>evo_stage</th>\n",
       "      <th>stats</th>\n",
       "      <th>value</th>\n",
       "    </tr>\n",
       "  </thead>\n",
       "  <tbody>\n",
       "    <tr>\n",
       "      <th>0</th>\n",
       "      <td>bulbasaur</td>\n",
       "      <td>Grass</td>\n",
       "      <td>1</td>\n",
       "      <td>hp</td>\n",
       "      <td>45</td>\n",
       "    </tr>\n",
       "    <tr>\n",
       "      <th>1</th>\n",
       "      <td>ivysaur</td>\n",
       "      <td>Grass</td>\n",
       "      <td>2</td>\n",
       "      <td>hp</td>\n",
       "      <td>60</td>\n",
       "    </tr>\n",
       "    <tr>\n",
       "      <th>2</th>\n",
       "      <td>venusaur</td>\n",
       "      <td>Grass</td>\n",
       "      <td>3</td>\n",
       "      <td>hp</td>\n",
       "      <td>80</td>\n",
       "    </tr>\n",
       "    <tr>\n",
       "      <th>3</th>\n",
       "      <td>charmander</td>\n",
       "      <td>Fire</td>\n",
       "      <td>1</td>\n",
       "      <td>hp</td>\n",
       "      <td>39</td>\n",
       "    </tr>\n",
       "    <tr>\n",
       "      <th>4</th>\n",
       "      <td>charmeleon</td>\n",
       "      <td>Fire</td>\n",
       "      <td>2</td>\n",
       "      <td>hp</td>\n",
       "      <td>58</td>\n",
       "    </tr>\n",
       "    <tr>\n",
       "      <th>5</th>\n",
       "      <td>charizard</td>\n",
       "      <td>Fire</td>\n",
       "      <td>3</td>\n",
       "      <td>hp</td>\n",
       "      <td>78</td>\n",
       "    </tr>\n",
       "    <tr>\n",
       "      <th>6</th>\n",
       "      <td>squirtle</td>\n",
       "      <td>Water</td>\n",
       "      <td>1</td>\n",
       "      <td>hp</td>\n",
       "      <td>44</td>\n",
       "    </tr>\n",
       "    <tr>\n",
       "      <th>7</th>\n",
       "      <td>wartortle</td>\n",
       "      <td>Water</td>\n",
       "      <td>2</td>\n",
       "      <td>hp</td>\n",
       "      <td>59</td>\n",
       "    </tr>\n",
       "    <tr>\n",
       "      <th>8</th>\n",
       "      <td>blastoise</td>\n",
       "      <td>Water</td>\n",
       "      <td>3</td>\n",
       "      <td>hp</td>\n",
       "      <td>79</td>\n",
       "    </tr>\n",
       "    <tr>\n",
       "      <th>9</th>\n",
       "      <td>caterpie</td>\n",
       "      <td>Bug</td>\n",
       "      <td>1</td>\n",
       "      <td>hp</td>\n",
       "      <td>45</td>\n",
       "    </tr>\n",
       "  </tbody>\n",
       "</table>\n",
       "</div>"
      ],
      "text/plain": [
       "      pokemon   type  evo_stage stats  value\n",
       "0   bulbasaur  Grass          1    hp     45\n",
       "1     ivysaur  Grass          2    hp     60\n",
       "2    venusaur  Grass          3    hp     80\n",
       "3  charmander   Fire          1    hp     39\n",
       "4  charmeleon   Fire          2    hp     58\n",
       "5   charizard   Fire          3    hp     78\n",
       "6    squirtle  Water          1    hp     44\n",
       "7   wartortle  Water          2    hp     59\n",
       "8   blastoise  Water          3    hp     79\n",
       "9    caterpie    Bug          1    hp     45"
      ]
     },
     "execution_count": 2,
     "metadata": {},
     "output_type": "execute_result"
    },
    {
     "name": "stdout",
     "output_type": "stream",
     "text": [
      "The shape of the original dataframe is:  (807, 10)\n",
      "The shape of the melted dataframe is:  (4842, 5)\n"
     ]
    }
   ],
   "source": [
    "dataf = pd.read_csv('original_data.csv')\n",
    "dataf.loc[dataf.evo_stage>3, 'evo_stage'] = 3\n",
    "dataf.pokemon = dataf.pokemon.str.lower()\n",
    "dataf_stats = dataf.drop(['types'], axis=1)\n",
    "\n",
    "dataf_long_stats = pd.melt(dataf_stats, id_vars = ['pokemon','type','evo_stage'], var_name = 'stats')\n",
    "dataf_long_stats.head(10)\n",
    "print('The shape of the original dataframe is: ', dataf.shape)\n",
    "print('The shape of the melted dataframe is: ', dataf_long_stats.shape)"
   ]
  },
  {
   "cell_type": "markdown",
   "metadata": {},
   "source": [
    "We can see that the new dataframe is 807*6=4842. Instead of having a \"wider\" dataframe, the dataframe is now \"longer,\" which makes it easier to perform aggregate computations and visualizations. First, let's see the average value of each stat using `pivot_table`."
   ]
  },
  {
   "cell_type": "code",
   "execution_count": 3,
   "metadata": {
    "ExecuteTime": {
     "end_time": "2018-07-14T10:04:29.510640Z",
     "start_time": "2018-07-14T10:04:29.485094Z"
    }
   },
   "outputs": [
    {
     "data": {
      "text/html": [
       "<div>\n",
       "<style scoped>\n",
       "    .dataframe tbody tr th:only-of-type {\n",
       "        vertical-align: middle;\n",
       "    }\n",
       "\n",
       "    .dataframe tbody tr th {\n",
       "        vertical-align: top;\n",
       "    }\n",
       "\n",
       "    .dataframe thead th {\n",
       "        text-align: right;\n",
       "    }\n",
       "</style>\n",
       "<table border=\"1\" class=\"dataframe\">\n",
       "  <thead>\n",
       "    <tr style=\"text-align: right;\">\n",
       "      <th></th>\n",
       "      <th>mean</th>\n",
       "      <th>std</th>\n",
       "    </tr>\n",
       "    <tr>\n",
       "      <th>stats</th>\n",
       "      <th></th>\n",
       "      <th></th>\n",
       "    </tr>\n",
       "  </thead>\n",
       "  <tbody>\n",
       "    <tr>\n",
       "      <th>att</th>\n",
       "      <td>76.210657</td>\n",
       "      <td>29.644590</td>\n",
       "    </tr>\n",
       "    <tr>\n",
       "      <th>defs</th>\n",
       "      <td>71.602230</td>\n",
       "      <td>29.611741</td>\n",
       "    </tr>\n",
       "    <tr>\n",
       "      <th>hp</th>\n",
       "      <td>68.748451</td>\n",
       "      <td>26.032808</td>\n",
       "    </tr>\n",
       "    <tr>\n",
       "      <th>spatt</th>\n",
       "      <td>69.610905</td>\n",
       "      <td>29.567768</td>\n",
       "    </tr>\n",
       "    <tr>\n",
       "      <th>spdef</th>\n",
       "      <td>69.889715</td>\n",
       "      <td>27.155402</td>\n",
       "    </tr>\n",
       "    <tr>\n",
       "      <th>spe</th>\n",
       "      <td>65.830235</td>\n",
       "      <td>27.736838</td>\n",
       "    </tr>\n",
       "  </tbody>\n",
       "</table>\n",
       "</div>"
      ],
      "text/plain": [
       "            mean        std\n",
       "stats                      \n",
       "att    76.210657  29.644590\n",
       "defs   71.602230  29.611741\n",
       "hp     68.748451  26.032808\n",
       "spatt  69.610905  29.567768\n",
       "spdef  69.889715  27.155402\n",
       "spe    65.830235  27.736838"
      ]
     },
     "execution_count": 3,
     "metadata": {},
     "output_type": "execute_result"
    }
   ],
   "source": [
    "df_agg = dataf_long_stats.groupby('stats')\n",
    "df_agg.value.agg([np.mean, np.std])"
   ]
  },
  {
   "cell_type": "markdown",
   "metadata": {},
   "source": [
    "Now, let's see the distributions of each stat with boxplots."
   ]
  },
  {
   "cell_type": "code",
   "execution_count": 6,
   "metadata": {
    "ExecuteTime": {
     "end_time": "2018-07-14T11:36:17.897844Z",
     "start_time": "2018-07-14T11:36:17.539691Z"
    }
   },
   "outputs": [
    {
     "data": {
      "text/plain": [
       "<matplotlib.figure.Figure at 0x11363e160>"
      ]
     },
     "execution_count": 6,
     "metadata": {},
     "output_type": "execute_result"
    },
    {
     "data": {
      "text/plain": [
       "<matplotlib.axes._subplots.AxesSubplot at 0x1135bd4e0>"
      ]
     },
     "execution_count": 6,
     "metadata": {},
     "output_type": "execute_result"
    },
    {
     "data": {
      "text/plain": [
       "Text(0.5,1,'Boxplot of Stats')"
      ]
     },
     "execution_count": 6,
     "metadata": {},
     "output_type": "execute_result"
    },
    {
     "data": {
      "image/png": "[encoded data removed]",
      "text/plain": [
       "<matplotlib.figure.Figure at 0x11363e160>"
      ]
     },
     "metadata": {},
     "output_type": "display_data"
    }
   ],
   "source": [
    "plt.figure(figsize=(14,12))\n",
    "plt.rcParams.update({'font.size': 20})\n",
    "sns.boxplot(x='stats', y='value', data = dataf_long_stats)\n",
    "plt.title('Boxplot of Stats')"
   ]
  },
  {
   "cell_type": "markdown",
   "metadata": {},
   "source": [
    "Doesn't seem like there's anything *toooo* interesting here. The medians for each stat appears to be around 70-80. There does seem to be an abnormally large amount of outliers for HP. Let's take a look at how evolution stage affects stats using a swarmplot. Since the visual will be very messy with all the pokemon, I decided to take a look at the first 200."
   ]
  },
  {
   "cell_type": "code",
   "execution_count": 7,
   "metadata": {
    "ExecuteTime": {
     "end_time": "2018-07-14T11:36:32.266866Z",
     "start_time": "2018-07-14T11:36:31.603982Z"
    }
   },
   "outputs": [
    {
     "data": {
      "text/plain": [
       "<matplotlib.figure.Figure at 0x113662e10>"
      ]
     },
     "execution_count": 7,
     "metadata": {},
     "output_type": "execute_result"
    },
    {
     "data": {
      "text/plain": [
       "<matplotlib.axes._subplots.AxesSubplot at 0x11396da58>"
      ]
     },
     "execution_count": 7,
     "metadata": {},
     "output_type": "execute_result"
    },
    {
     "data": {
      "text/plain": [
       "Text(0.5,1,'Swarmplot of Stats with Evolution')"
      ]
     },
     "execution_count": 7,
     "metadata": {},
     "output_type": "execute_result"
    },
    {
     "data": {
      "image/png": "[encoded data removed]",
      "text/plain": [
       "<matplotlib.figure.Figure at 0x113662e10>"
      ]
     },
     "metadata": {},
     "output_type": "display_data"
    }
   ],
   "source": [
    "# script to extract first 200 pokemon\n",
    "indexes = []\n",
    "count = 0\n",
    "for i in range(dataf_long_stats.shape[0]):\n",
    "    if count <= 200:\n",
    "        indexes.append(i)               \n",
    "    count += 1               \n",
    "    if i % 807 == 0:\n",
    "        count = 0    \n",
    "# drawing the swarmplot\n",
    "plt.figure(figsize=(13,13))\n",
    "sns.swarmplot(x='stats', y= 'value', hue = 'evo_stage', \n",
    "              data = dataf_long_stats.iloc[indexes], palette = 'muted' )\n",
    "plt.title('Swarmplot of Stats with Evolution')"
   ]
  },
  {
   "cell_type": "markdown",
   "metadata": {},
   "source": [
    "This graph tells us a few things that we probably already knew. First of all, we can see that the first stage comprises most of the pokemon and tends to have the lowest stats. Next, we see that the third stage are the fewest but they tend to be higher up on the graph. The second stage is intermediate in both count and stat values. "
   ]
  },
  {
   "cell_type": "markdown",
   "metadata": {},
   "source": [
    "Let's see what kind of role type plays on stats. First let's take a look at the numbers by aggregating the data with a pivot table."
   ]
  },
  {
   "cell_type": "code",
   "execution_count": 7,
   "metadata": {
    "ExecuteTime": {
     "end_time": "2018-07-14T10:04:47.219418Z",
     "start_time": "2018-07-14T10:04:47.019885Z"
    }
   },
   "outputs": [
    {
     "data": {
      "text/html": [
       "<div>\n",
       "<style scoped>\n",
       "    .dataframe tbody tr th:only-of-type {\n",
       "        vertical-align: middle;\n",
       "    }\n",
       "\n",
       "    .dataframe tbody tr th {\n",
       "        vertical-align: top;\n",
       "    }\n",
       "\n",
       "    .dataframe thead th {\n",
       "        text-align: right;\n",
       "    }\n",
       "</style>\n",
       "<table border=\"1\" class=\"dataframe\">\n",
       "  <thead>\n",
       "    <tr style=\"text-align: right;\">\n",
       "      <th>stats</th>\n",
       "      <th>att</th>\n",
       "      <th>defs</th>\n",
       "      <th>hp</th>\n",
       "      <th>spatt</th>\n",
       "      <th>spdef</th>\n",
       "      <th>spe</th>\n",
       "    </tr>\n",
       "    <tr>\n",
       "      <th>type</th>\n",
       "      <th></th>\n",
       "      <th></th>\n",
       "      <th></th>\n",
       "      <th></th>\n",
       "      <th></th>\n",
       "      <th></th>\n",
       "    </tr>\n",
       "  </thead>\n",
       "  <tbody>\n",
       "    <tr>\n",
       "      <th>Bug</th>\n",
       "      <td>57.575000</td>\n",
       "      <td>66.625000</td>\n",
       "      <td>50.275000</td>\n",
       "      <td>41.575000</td>\n",
       "      <td>57.750000</td>\n",
       "      <td>50.150000</td>\n",
       "    </tr>\n",
       "    <tr>\n",
       "      <th>Dark</th>\n",
       "      <td>84.800000</td>\n",
       "      <td>61.200000</td>\n",
       "      <td>62.000000</td>\n",
       "      <td>84.800000</td>\n",
       "      <td>68.700000</td>\n",
       "      <td>78.200000</td>\n",
       "    </tr>\n",
       "    <tr>\n",
       "      <th>Dragon</th>\n",
       "      <td>93.678571</td>\n",
       "      <td>78.750000</td>\n",
       "      <td>79.714286</td>\n",
       "      <td>82.964286</td>\n",
       "      <td>80.392857</td>\n",
       "      <td>70.357143</td>\n",
       "    </tr>\n",
       "    <tr>\n",
       "      <th>Electric</th>\n",
       "      <td>69.454545</td>\n",
       "      <td>56.515152</td>\n",
       "      <td>63.181818</td>\n",
       "      <td>79.424242</td>\n",
       "      <td>65.606061</td>\n",
       "      <td>82.242424</td>\n",
       "    </tr>\n",
       "    <tr>\n",
       "      <th>Fairy</th>\n",
       "      <td>63.333333</td>\n",
       "      <td>71.361111</td>\n",
       "      <td>64.833333</td>\n",
       "      <td>79.000000</td>\n",
       "      <td>87.500000</td>\n",
       "      <td>63.361111</td>\n",
       "    </tr>\n",
       "    <tr>\n",
       "      <th>Fighting</th>\n",
       "      <td>99.227273</td>\n",
       "      <td>73.318182</td>\n",
       "      <td>74.113636</td>\n",
       "      <td>60.227273</td>\n",
       "      <td>69.386364</td>\n",
       "      <td>72.568182</td>\n",
       "    </tr>\n",
       "    <tr>\n",
       "      <th>Fire</th>\n",
       "      <td>80.500000</td>\n",
       "      <td>65.515625</td>\n",
       "      <td>68.328125</td>\n",
       "      <td>87.578125</td>\n",
       "      <td>70.218750</td>\n",
       "      <td>75.171875</td>\n",
       "    </tr>\n",
       "    <tr>\n",
       "      <th>Flying</th>\n",
       "      <td>76.157895</td>\n",
       "      <td>69.070175</td>\n",
       "      <td>73.087719</td>\n",
       "      <td>80.210526</td>\n",
       "      <td>74.789474</td>\n",
       "      <td>83.982456</td>\n",
       "    </tr>\n",
       "    <tr>\n",
       "      <th>Ghost</th>\n",
       "      <td>72.142857</td>\n",
       "      <td>87.428571</td>\n",
       "      <td>56.142857</td>\n",
       "      <td>79.285714</td>\n",
       "      <td>88.428571</td>\n",
       "      <td>59.857143</td>\n",
       "    </tr>\n",
       "    <tr>\n",
       "      <th>Grass</th>\n",
       "      <td>73.052632</td>\n",
       "      <td>71.294737</td>\n",
       "      <td>64.968421</td>\n",
       "      <td>71.094737</td>\n",
       "      <td>70.747368</td>\n",
       "      <td>57.305263</td>\n",
       "    </tr>\n",
       "    <tr>\n",
       "      <th>Ground</th>\n",
       "      <td>88.166667</td>\n",
       "      <td>83.900000</td>\n",
       "      <td>74.366667</td>\n",
       "      <td>55.783333</td>\n",
       "      <td>61.033333</td>\n",
       "      <td>57.500000</td>\n",
       "    </tr>\n",
       "    <tr>\n",
       "      <th>Ice</th>\n",
       "      <td>78.642857</td>\n",
       "      <td>78.500000</td>\n",
       "      <td>67.000000</td>\n",
       "      <td>71.142857</td>\n",
       "      <td>82.214286</td>\n",
       "      <td>65.571429</td>\n",
       "    </tr>\n",
       "    <tr>\n",
       "      <th>Normal</th>\n",
       "      <td>73.588785</td>\n",
       "      <td>58.457944</td>\n",
       "      <td>76.093458</td>\n",
       "      <td>56.906542</td>\n",
       "      <td>63.028037</td>\n",
       "      <td>69.177570</td>\n",
       "    </tr>\n",
       "    <tr>\n",
       "      <th>Poison</th>\n",
       "      <td>70.720000</td>\n",
       "      <td>64.800000</td>\n",
       "      <td>64.520000</td>\n",
       "      <td>65.440000</td>\n",
       "      <td>64.480000</td>\n",
       "      <td>67.320000</td>\n",
       "    </tr>\n",
       "    <tr>\n",
       "      <th>Psychic</th>\n",
       "      <td>55.378378</td>\n",
       "      <td>63.432432</td>\n",
       "      <td>70.567568</td>\n",
       "      <td>85.324324</td>\n",
       "      <td>79.135135</td>\n",
       "      <td>65.000000</td>\n",
       "    </tr>\n",
       "    <tr>\n",
       "      <th>Rock</th>\n",
       "      <td>87.629630</td>\n",
       "      <td>94.888889</td>\n",
       "      <td>70.925926</td>\n",
       "      <td>61.185185</td>\n",
       "      <td>67.333333</td>\n",
       "      <td>50.481481</td>\n",
       "    </tr>\n",
       "    <tr>\n",
       "      <th>Steel</th>\n",
       "      <td>91.000000</td>\n",
       "      <td>111.000000</td>\n",
       "      <td>65.171429</td>\n",
       "      <td>73.542857</td>\n",
       "      <td>81.142857</td>\n",
       "      <td>55.485714</td>\n",
       "    </tr>\n",
       "    <tr>\n",
       "      <th>Water</th>\n",
       "      <td>70.543210</td>\n",
       "      <td>70.518519</td>\n",
       "      <td>67.629630</td>\n",
       "      <td>70.802469</td>\n",
       "      <td>65.604938</td>\n",
       "      <td>63.407407</td>\n",
       "    </tr>\n",
       "  </tbody>\n",
       "</table>\n",
       "</div>"
      ],
      "text/plain": [
       "stats           att        defs         hp      spatt      spdef        spe\n",
       "type                                                                       \n",
       "Bug       57.575000   66.625000  50.275000  41.575000  57.750000  50.150000\n",
       "Dark      84.800000   61.200000  62.000000  84.800000  68.700000  78.200000\n",
       "Dragon    93.678571   78.750000  79.714286  82.964286  80.392857  70.357143\n",
       "Electric  69.454545   56.515152  63.181818  79.424242  65.606061  82.242424\n",
       "Fairy     63.333333   71.361111  64.833333  79.000000  87.500000  63.361111\n",
       "Fighting  99.227273   73.318182  74.113636  60.227273  69.386364  72.568182\n",
       "Fire      80.500000   65.515625  68.328125  87.578125  70.218750  75.171875\n",
       "Flying    76.157895   69.070175  73.087719  80.210526  74.789474  83.982456\n",
       "Ghost     72.142857   87.428571  56.142857  79.285714  88.428571  59.857143\n",
       "Grass     73.052632   71.294737  64.968421  71.094737  70.747368  57.305263\n",
       "Ground    88.166667   83.900000  74.366667  55.783333  61.033333  57.500000\n",
       "Ice       78.642857   78.500000  67.000000  71.142857  82.214286  65.571429\n",
       "Normal    73.588785   58.457944  76.093458  56.906542  63.028037  69.177570\n",
       "Poison    70.720000   64.800000  64.520000  65.440000  64.480000  67.320000\n",
       "Psychic   55.378378   63.432432  70.567568  85.324324  79.135135  65.000000\n",
       "Rock      87.629630   94.888889  70.925926  61.185185  67.333333  50.481481\n",
       "Steel     91.000000  111.000000  65.171429  73.542857  81.142857  55.485714\n",
       "Water     70.543210   70.518519  67.629630  70.802469  65.604938  63.407407"
      ]
     },
     "execution_count": 7,
     "metadata": {},
     "output_type": "execute_result"
    },
    {
     "data": {
      "text/plain": [
       "<matplotlib.axes._subplots.AxesSubplot at 0x7fd02ab131d0>"
      ]
     },
     "execution_count": 7,
     "metadata": {},
     "output_type": "execute_result"
    },
    {
     "data": {
      "image/png": "[encoded data removed]",
      "text/plain": [
       "<Figure size 432x288 with 2 Axes>"
      ]
     },
     "metadata": {},
     "output_type": "display_data"
    }
   ],
   "source": [
    "df_agg = pd.pivot_table(dataf_long_stats.drop('evo_stage',axis=1), \n",
    "                        index='type', columns = 'stats', values='value')\n",
    "df_agg\n",
    "sns.heatmap(df_agg)"
   ]
  },
  {
   "cell_type": "markdown",
   "metadata": {},
   "source": [
    "It's a bit hard to see any trends with just numbers and this heatmap... Let's see how these numbers play out with other visuals. This will be a barplot that describes the distribution of means for each of the stats."
   ]
  },
  {
   "cell_type": "code",
   "execution_count": 8,
   "metadata": {
    "ExecuteTime": {
     "end_time": "2018-07-14T10:04:53.042489Z",
     "start_time": "2018-07-14T10:04:50.440981Z"
    }
   },
   "outputs": [
    {
     "data": {
      "image/png": "[encoded data removed]",
      "text/plain": [
       "<Figure size 1080x864 with 18 Axes>"
      ]
     },
     "metadata": {},
     "output_type": "display_data"
    }
   ],
   "source": [
    "plt.rcParams.update({'font.size': 13})\n",
    "g = sns.factorplot(x='stats', y = 'value', data = dataf_long_stats,\n",
    "                   col = 'type', col_wrap=5, kind = 'bar', size = 3)"
   ]
  },
  {
   "cell_type": "markdown",
   "metadata": {},
   "source": [
    "A bit hard to see, but there are some interesting trends. For example, bug type pokemon seem to have lower overall. Steel and rock types have strikingly high defense but very low speed. "
   ]
  },
  {
   "cell_type": "code",
   "execution_count": 9,
   "metadata": {
    "ExecuteTime": {
     "end_time": "2018-07-14T10:04:57.409682Z",
     "start_time": "2018-07-14T10:04:54.891951Z"
    }
   },
   "outputs": [
    {
     "data": {
      "image/png": "[encoded data removed]",
      "text/plain": [
       "<Figure size 1080x864 with 18 Axes>"
      ]
     },
     "metadata": {},
     "output_type": "display_data"
    }
   ],
   "source": [
    "plt.rcParams.update({'font.size': 13})\n",
    "g = sns.factorplot(x='stats', y = 'value', data = dataf_long_stats,\n",
    "                   col = 'type', col_wrap=5, kind = 'point', size = 3)"
   ]
  },
  {
   "cell_type": "markdown",
   "metadata": {},
   "source": [
    "A similar visual, except using points rather than bar. This allows us to much more easily see the distribution of stats per type. Perhaps we can build a model that can learn these differences..."
   ]
  },
  {
   "cell_type": "markdown",
   "metadata": {},
   "source": [
    "# Obtaining the Main Color of each Pokemon"
   ]
  },
  {
   "cell_type": "code",
   "execution_count": null,
   "metadata": {
    "ExecuteTime": {
     "end_time": "2018-07-10T08:16:09.028600Z",
     "start_time": "2018-07-10T08:16:08.936116Z"
    }
   },
   "outputs": [],
   "source": [
    "import requests\n",
    "import PIL\n",
    "import io\n",
    "import numpy as np\n",
    "import cv2"
   ]
  },
  {
   "cell_type": "code",
   "execution_count": null,
   "metadata": {
    "ExecuteTime": {
     "end_time": "2018-07-10T08:27:35.505689Z",
     "start_time": "2018-07-10T08:27:35.238200Z"
    },
    "code_folding": []
   },
   "outputs": [],
   "source": [
    "# Download all of the pokemon images\n",
    "\n",
    "poke_col_list = []\n",
    "for counter, pokemon in enumerate(poke_list):\n",
    "    page2 = requests.get('https://pokemondb.net' + pokemon)\n",
    "    soup2 = BeautifulSoup(page2.content, 'html.parser')\n",
    "\n",
    "    img_link = soup2.select('div.col.desk-span-4.lap-span-6.figure img')[0]['src']\n",
    "    #print(img_link)\n",
    "    \n",
    "\n",
    "    img = requests.get(img_link, stream=True)\n",
    "    \n",
    "    img_name = 'images' + pokemon.replace('/pokedex', '') + '.jpg' \n",
    "    with open(img_name, 'wb') as handler:\n",
    "        handler.write(img.content)\n",
    "        #print('Saving', pokemon)\n",
    "        print(str(counter+1)+ '/'+ str(len(poke_list)) + ' saved.')    "
   ]
  },
  {
   "cell_type": "markdown",
   "metadata": {},
   "source": [
    "I will be defining the \"main color\" of the pokemon as the average of it's color. Each image contains the pokemon and a white background. If I take just the average of the entire image, it will be too white because of the white background. To avoid this problem, I used a k-means function to compute 2 clusters. One cluster center will correspond to the average of the white background while the other cluster center will correspond to the average of the pokemon color."
   ]
  },
  {
   "cell_type": "code",
   "execution_count": null,
   "metadata": {
    "ExecuteTime": {
     "end_time": "2018-07-10T08:28:57.658078Z",
     "start_time": "2018-07-10T08:27:49.134092Z"
    },
    "scrolled": true
   },
   "outputs": [],
   "source": [
    "from os import listdir\n",
    "poke_img_files = listdir('images')\n",
    "\n",
    "poke_col_list = []\n",
    "for poke_img in tqdm(poke_img_files):\n",
    "    img = PIL.Image.open('images/'+ poke_img)\n",
    "    img = cv2.cvtColor(np.array(img), cv2.COLOR_RGB2BGR)\n",
    "\n",
    "    Z = img.reshape((-1,3))\n",
    "    # convert to np.float32\n",
    "    Z = np.float32(Z)\n",
    "    # define criteria, number of clusters(K) and apply kmeans()\n",
    "    criteria = (cv2.TERM_CRITERIA_EPS + cv2.TERM_CRITERIA_MAX_ITER, 10, 1.0)\n",
    "    K = 2\n",
    "    ret,label,center=cv2.kmeans(Z,K,None,criteria,10,cv2.KMEANS_RANDOM_CENTERS)\n",
    "    # Now convert back into uint8, and make original image\n",
    "    center = np.uint8(center)\n",
    "    res = center[label.flatten()]\n",
    "    res2 = res.reshape((img.shape))\n",
    "\n",
    "\n",
    "    b,g,r = cv2.split(res2)\n",
    "    frame_rgb = cv2.merge((r,g,b))\n",
    "    img_name = 'new_images/' + poke_img\n",
    "    pil_img = PIL.Image.fromarray(frame_rgb, \"RGB\")\n",
    "    pil_img.save(img_name)\n",
    "    #print('Saving', poke_img)\n",
    "    \n",
    "    # extracting the two colors\n",
    "    two_colors = []\n",
    "    big_list = []\n",
    "    res3 = res2.tolist()\n",
    "    for i in res3:\n",
    "        big_list.extend(i)\n",
    "    for i in big_list:\n",
    "        in_list = i in two_colors\n",
    "        if in_list == False: two_colors.append(i)\n",
    "    # the color that is farther away from 250 (white) is probably the pokemon's dominant color\n",
    "\n",
    "    main_color = [sorted(two_colors)[0]] # each array is (BGR) instead of (RGB)\n",
    "    poke_col_list.append(main_color)"
   ]
  },
  {
   "cell_type": "code",
   "execution_count": null,
   "metadata": {
    "ExecuteTime": {
     "end_time": "2018-07-10T08:38:52.214093Z",
     "start_time": "2018-07-10T08:38:52.176387Z"
    }
   },
   "outputs": [],
   "source": [
    "poke_col_list_flat = []\n",
    "for i in poke_col_list:\n",
    "    for j in i:\n",
    "        poke_col_list_flat.append(j)\n",
    "b, g, r = zip(*poke_col_list_flat) # create new lists that correspond to blue, green, and red channel\n",
    "color_df = pd.DataFrame({'r':r, 'g': g, 'b': b,\n",
    "                         'pokemon': [item.replace('.jpg', '') for item in poke_img_files]})\n",
    "\n",
    "# adding this column 'color' because plotly requires color to be in that format\n",
    "color_df['color'] = 'rgb(' + color_df.r.map(str) + ', ' + color_df.g.map(str) + ', ' + color_df.b.map(str) + ')'\n",
    "\n",
    "dataf = pd.merge(dataf, color_df, on = 'pokemon') # merging the color dataframe with the original dataframe by 'pokemon' column\n",
    "dataf.shape\n",
    "dataf.head()\n",
    "\n",
    "dataf.to_csv('data_w_color.csv', index= False)"
   ]
  },
  {
   "cell_type": "markdown",
   "metadata": {},
   "source": [
    "Visualizing the the colors"
   ]
  },
  {
   "cell_type": "code",
   "execution_count": 10,
   "metadata": {
    "ExecuteTime": {
     "end_time": "2018-07-14T10:05:04.684697Z",
     "start_time": "2018-07-14T10:05:04.107253Z"
    }
   },
   "outputs": [],
   "source": [
    "import plotly.plotly as py\n",
    "import plotly.graph_objs as go\n",
    "import numpy as np"
   ]
  },
  {
   "cell_type": "code",
   "execution_count": 11,
   "metadata": {
    "ExecuteTime": {
     "end_time": "2018-07-14T10:05:08.568337Z",
     "start_time": "2018-07-14T10:05:05.701246Z"
    }
   },
   "outputs": [
    {
     "data": {
      "text/html": [
       "<iframe id=\"igraph\" scrolling=\"no\" style=\"border:none;\" seamless=\"seamless\" src=\"https://plot.ly/~kennylov/61.embed\" height=\"525px\" width=\"100%\"></iframe>"
      ],
      "text/plain": [
       "<plotly.tools.PlotlyDisplay object>"
      ]
     },
     "execution_count": 11,
     "metadata": {},
     "output_type": "execute_result"
    }
   ],
   "source": [
    "dataf = pd.read_csv('data_w_color.csv')\n",
    "\n",
    "trace1 = go.Scatter3d(\n",
    "    x=dataf['r'],\n",
    "    y=dataf['g'],\n",
    "    z=dataf['b'],\n",
    "    mode='markers',\n",
    "    marker=dict(\n",
    "        color=dataf['color'],\n",
    "        size=5,\n",
    "        line=dict(\n",
    "            color= dataf['color'],\n",
    "            width=0.5\n",
    "        ),\n",
    "        opacity=0.8\n",
    "    ),\n",
    "    text = dataf.pokemon\n",
    ")\n",
    "\n",
    "data = [trace1]\n",
    "\n",
    "layout = go.Layout(\n",
    "    margin=dict(\n",
    "        l=0,\n",
    "        r=0,\n",
    "        b=0,\n",
    "        t=0\n",
    "    ),\n",
    "    scene = dict(\n",
    "        xaxis = dict(title = 'Red'),\n",
    "        yaxis = dict(title = 'Green'),\n",
    "        zaxis = dict(title = 'Blue')\n",
    "    ),\n",
    "    paper_bgcolor='rgba(0,0,0,0)'\n",
    ")\n",
    "fig = go.Figure(data=data, layout=layout)\n",
    "py.iplot(fig, filename='simple-3d-scatter')"
   ]
  },
  {
   "cell_type": "markdown",
   "metadata": {},
   "source": [
    "Interesting results... but this doesn't tell us much besides the color distribution. What's more important would be to include type into visual. Now, keeping the same points on this graph, but changing each point's color to correspond to its type. This will allow us to see the relationship between color and type. First, we need to create a new color scheme that corresponds to the colors that we're more familiar with."
   ]
  },
  {
   "cell_type": "code",
   "execution_count": 12,
   "metadata": {
    "ExecuteTime": {
     "end_time": "2018-07-14T10:05:13.653188Z",
     "start_time": "2018-07-14T10:05:13.535070Z"
    }
   },
   "outputs": [],
   "source": [
    "color_type_dict = {}\n",
    "\n",
    "# obtaining this color palette from bulbapedia.com\n",
    "color_type_dict = {'Grass': 'rgb(120,200,80)',\n",
    "                   'Fire': 'rgb(240,128,48)',\n",
    "                   'Water': 'rgb(104,144,240)',\n",
    "                   'Bug': 'rgb(168,184,32)',\n",
    "                   'Normal': 'rgb(168,168,120)',\n",
    "                   'Poison': 'rgb(160,64,160)',\n",
    "                   'Electric': 'rgb(248,208,48)',\n",
    "                   'Ground': 'rgb(224,192,104)',\n",
    "                   'Fairy': 'rgb(238,153,172)',\n",
    "                   'Fighting': 'rgb(192,48,40)',\n",
    "                   'Psychic': 'rgb(248,88,136)',\n",
    "                   'Rock': 'rgb(184,160,56)',\n",
    "                   'Ghost': 'rgb(112,88,152)',\n",
    "                   'Ice': 'rgb(152,216,216)',\n",
    "                   'Dragon': 'rgb(112,56,248)',\n",
    "                   'Flying': 'rgb(168,144,240)',\n",
    "                   'Dark': 'rgb(112,88,72)',\n",
    "                   'Steel': 'rgb(184,184,208)'\n",
    "}    \n",
    "\n",
    "# mapping these colors to each pokemon    \n",
    "color_type = []\n",
    "for i in range(0,len(dataf)):\n",
    "    p_type = dataf.iloc[i].type\n",
    "    color_item = color_type_dict[p_type]\n",
    "    col = color_item\n",
    "    color_type.append(col)\n",
    "    \n",
    "dataf['color_type'] = color_type"
   ]
  },
  {
   "cell_type": "code",
   "execution_count": 13,
   "metadata": {
    "ExecuteTime": {
     "end_time": "2018-07-14T10:05:17.316566Z",
     "start_time": "2018-07-14T10:05:15.605568Z"
    }
   },
   "outputs": [
    {
     "data": {
      "text/html": [
       "<iframe id=\"igraph\" scrolling=\"no\" style=\"border:none;\" seamless=\"seamless\" src=\"https://plot.ly/~kennylov/63.embed\" height=\"525px\" width=\"100%\"></iframe>"
      ],
      "text/plain": [
       "<plotly.tools.PlotlyDisplay object>"
      ]
     },
     "execution_count": 13,
     "metadata": {},
     "output_type": "execute_result"
    }
   ],
   "source": [
    "trace2 = []\n",
    "\n",
    "for col_type in np.unique(color_type):\n",
    "    dataf_type_subset = dataf.loc[dataf.color_type == col_type]\n",
    "    trace2.append(\n",
    "        go.Scatter3d(\n",
    "        x=dataf_type_subset['r'],\n",
    "        y=dataf_type_subset['b'],\n",
    "        z=dataf_type_subset['g'],\n",
    "        mode='markers',\n",
    "        marker=dict(\n",
    "            color=dataf_type_subset['color_type'],\n",
    "            size=5,\n",
    "            line=dict(\n",
    "                color= dataf_type_subset['color_type'],\n",
    "                width=0.5\n",
    "            ),\n",
    "            opacity=0.8\n",
    "        ),\n",
    "        text = dataf_type_subset['type'],\n",
    "        name = dataf_type_subset.type.iloc[1]\n",
    "        )\n",
    "    )\n",
    "\n",
    "    \n",
    "data2 = [trace2]\n",
    "\n",
    "layout = go.Layout(\n",
    "    margin=dict(\n",
    "        l=0,\n",
    "        r=0,\n",
    "        b=0,\n",
    "        t=0\n",
    "    ),\n",
    "    scene = dict(\n",
    "        xaxis = dict(title = 'Red'),\n",
    "        yaxis = dict(title = 'Blue'),\n",
    "        zaxis = dict(title = 'Green')\n",
    "    ),\n",
    "    paper_bgcolor='rgba(0,0,0,0)'\n",
    ")\n",
    "\n",
    "fig2 = go.Figure(data=trace2, layout=layout)\n",
    "py.iplot(fig2, filename='simple-3d-scatter2')"
   ]
  },
  {
   "cell_type": "markdown",
   "metadata": {},
   "source": [
    "The pokemon are in the same space as the previous graph. The difference here is that the color of the points changed to represent the pokemon's type. Since there are so many different types in such a small plot, it's difficult to see clear clusters. However, there are distinct clusters; for example, you can see that fire types and water types are on opposite ends. Just out of curiousity I'll try different machine learning methods to see how useful of a feature color is."
   ]
  },
  {
   "cell_type": "markdown",
   "metadata": {},
   "source": [
    "# Building a Predictive Model"
   ]
  },
  {
   "cell_type": "markdown",
   "metadata": {},
   "source": [
    "Just a reminder, we'll be trying to predict a pokemon's type by using their base stats, evolution stage, and color.\n",
    "The first thing that should be done is to establish a benchmark to beat. This benchmark will be the accuracy of a \"dumb\" model that predicts only the most frequent type. Since the most frequent type is water, this \"dumb\" model will have an accuracy of about 116/807 $\\approx$ 14%. "
   ]
  },
  {
   "cell_type": "markdown",
   "metadata": {},
   "source": [
    "Usually before feeding data into machine learning algorithms, the data must be preprocessed and formatted correctly to achieve the best results. However, it's a good thing that the data is already in the perfect format that we need, so no further preprocessing will be necessary. "
   ]
  },
  {
   "cell_type": "markdown",
   "metadata": {},
   "source": [
    "We'll split up the data into a training set (80%) and a validation set (20%) to see how well the model generalizes to data it hasn't seen before."
   ]
  },
  {
   "cell_type": "code",
   "execution_count": 2,
   "metadata": {
    "ExecuteTime": {
     "end_time": "2018-07-14T10:17:30.559745Z",
     "start_time": "2018-07-14T10:17:30.346962Z"
    }
   },
   "outputs": [],
   "source": [
    "from sklearn.linear_model import LogisticRegression\n",
    "from sklearn.neighbors import KNeighborsClassifier\n",
    "from sklearn.ensemble import RandomForestClassifier\n",
    "from xgboost import XGBClassifier\n",
    "\n",
    "from sklearn.model_selection import cross_val_score\n",
    "from sklearn.metrics import accuracy_score\n",
    "from sklearn.model_selection import train_test_split\n",
    "\n",
    "from sklearn.model_selection import GridSearchCV\n",
    "\n",
    "# xgboost causing warnings\n",
    "import warnings\n",
    "warnings.filterwarnings('ignore')"
   ]
  },
  {
   "cell_type": "code",
   "execution_count": 4,
   "metadata": {
    "ExecuteTime": {
     "end_time": "2018-07-14T10:17:34.464203Z",
     "start_time": "2018-07-14T10:17:34.444797Z"
    }
   },
   "outputs": [],
   "source": [
    "dataf = pd.read_csv('data_w_color.csv')\n",
    "\n",
    "# first drop all unnecessary variables\n",
    "dataf_clean = dataf.drop(['types', 'color', 'pokemon'], axis=1)\n",
    "X = dataf_clean.drop('type', axis=1) # feature matrix\n",
    "y = dataf_clean.type # target vector"
   ]
  },
  {
   "cell_type": "code",
   "execution_count": 5,
   "metadata": {
    "ExecuteTime": {
     "end_time": "2018-07-14T10:17:35.099460Z",
     "start_time": "2018-07-14T10:17:35.074678Z"
    }
   },
   "outputs": [
    {
     "name": "stdout",
     "output_type": "stream",
     "text": [
      "The shape of X_train is  (645, 10)\n",
      "The shape of y_train is  (645,)\n",
      "The shape of X_test is  (162, 10)\n",
      "The shape of y_test is  (162,)\n"
     ]
    }
   ],
   "source": [
    "# splitting the data into training and testing sets\n",
    "X_train, X_test, y_train, y_test = train_test_split(X, y, test_size=0.2, random_state = 123, stratify = y)\n",
    "print('The shape of X_train is ', X_train.shape)\n",
    "print('The shape of y_train is ', y_train.shape)\n",
    "print('The shape of X_test is ', X_test.shape)\n",
    "print('The shape of y_test is ', y_test.shape)"
   ]
  },
  {
   "cell_type": "markdown",
   "metadata": {},
   "source": [
    "Let's first try out a few classical machine learning algorithms to see which ones perform well by looking at their cross validation scores"
   ]
  },
  {
   "cell_type": "code",
   "execution_count": 17,
   "metadata": {
    "ExecuteTime": {
     "end_time": "2018-07-14T10:05:33.160268Z",
     "start_time": "2018-07-14T10:05:28.505651Z"
    }
   },
   "outputs": [
    {
     "data": {
      "text/html": [
       "<div>\n",
       "<style scoped>\n",
       "    .dataframe tbody tr th:only-of-type {\n",
       "        vertical-align: middle;\n",
       "    }\n",
       "\n",
       "    .dataframe tbody tr th {\n",
       "        vertical-align: top;\n",
       "    }\n",
       "\n",
       "    .dataframe thead th {\n",
       "        text-align: right;\n",
       "    }\n",
       "</style>\n",
       "<table border=\"1\" class=\"dataframe\">\n",
       "  <thead>\n",
       "    <tr style=\"text-align: right;\">\n",
       "      <th></th>\n",
       "      <th>Model</th>\n",
       "      <th>Mean Classification Rate</th>\n",
       "      <th>Standard Deviation</th>\n",
       "    </tr>\n",
       "  </thead>\n",
       "  <tbody>\n",
       "    <tr>\n",
       "      <th>0</th>\n",
       "      <td>LogisticRegression</td>\n",
       "      <td>0.342986</td>\n",
       "      <td>0.039329</td>\n",
       "    </tr>\n",
       "    <tr>\n",
       "      <th>2</th>\n",
       "      <td>RandomForestClassifier</td>\n",
       "      <td>0.304093</td>\n",
       "      <td>0.037466</td>\n",
       "    </tr>\n",
       "    <tr>\n",
       "      <th>3</th>\n",
       "      <td>XGBoost</td>\n",
       "      <td>0.263581</td>\n",
       "      <td>0.028925</td>\n",
       "    </tr>\n",
       "    <tr>\n",
       "      <th>1</th>\n",
       "      <td>KNeighborsClassifier</td>\n",
       "      <td>0.254184</td>\n",
       "      <td>0.033099</td>\n",
       "    </tr>\n",
       "  </tbody>\n",
       "</table>\n",
       "</div>"
      ],
      "text/plain": [
       "                    Model  Mean Classification Rate  Standard Deviation\n",
       "0      LogisticRegression                  0.342986            0.039329\n",
       "2  RandomForestClassifier                  0.304093            0.037466\n",
       "3                 XGBoost                  0.263581            0.028925\n",
       "1    KNeighborsClassifier                  0.254184            0.033099"
      ]
     },
     "execution_count": 17,
     "metadata": {},
     "output_type": "execute_result"
    }
   ],
   "source": [
    "models = []\n",
    "models.append(('LogisticRegression', LogisticRegression()))\n",
    "models.append((\"KNeighborsClassifier\", KNeighborsClassifier(n_neighbors=10)))\n",
    "models.append((\"RandomForestClassifier\", RandomForestClassifier(n_estimators=200,\n",
    "                                                                criterion='gini',\n",
    "                                                                    max_features=3)))\n",
    "models.append(('XGBoost', XGBClassifier(learning_rate=0.05, n_estimators=100,\n",
    "                                       max_depth= 5)))\n",
    "\n",
    "results = []\n",
    "names = []\n",
    "for name,model in models:\n",
    "    result = cross_val_score(model, X_train, y_train, cv=5)\n",
    "    names.append(name)\n",
    "    results.append(result)\n",
    "\n",
    "mean_results = []\n",
    "sd_results = []\n",
    "for model in results:\n",
    "    mean_results.append(model.mean())\n",
    "    sd_results.append(model.std())\n",
    "\n",
    "results_df = pd.DataFrame({'Model': names,\n",
    "              'Mean Classification Rate': mean_results,\n",
    "              'Standard Deviation': sd_results\n",
    "             })\n",
    "results_df.sort_values(by = 'Mean Classification Rate', ascending=False) # returning sorted dataframe"
   ]
  },
  {
   "cell_type": "markdown",
   "metadata": {},
   "source": [
    "Seems that a simple logistic regression has the highest cross-validation score. Let's see how they do on the held-out validation set."
   ]
  },
  {
   "cell_type": "code",
   "execution_count": 18,
   "metadata": {
    "ExecuteTime": {
     "end_time": "2018-07-14T10:05:38.404502Z",
     "start_time": "2018-07-14T10:05:37.261036Z"
    }
   },
   "outputs": [
    {
     "data": {
      "text/html": [
       "<div>\n",
       "<style scoped>\n",
       "    .dataframe tbody tr th:only-of-type {\n",
       "        vertical-align: middle;\n",
       "    }\n",
       "\n",
       "    .dataframe tbody tr th {\n",
       "        vertical-align: top;\n",
       "    }\n",
       "\n",
       "    .dataframe thead th {\n",
       "        text-align: right;\n",
       "    }\n",
       "</style>\n",
       "<table border=\"1\" class=\"dataframe\">\n",
       "  <thead>\n",
       "    <tr style=\"text-align: right;\">\n",
       "      <th></th>\n",
       "      <th>Model</th>\n",
       "      <th>Classification Rate</th>\n",
       "    </tr>\n",
       "  </thead>\n",
       "  <tbody>\n",
       "    <tr>\n",
       "      <th>0</th>\n",
       "      <td>LogisticRegression</td>\n",
       "      <td>0.327160</td>\n",
       "    </tr>\n",
       "    <tr>\n",
       "      <th>3</th>\n",
       "      <td>XGBoost</td>\n",
       "      <td>0.296296</td>\n",
       "    </tr>\n",
       "    <tr>\n",
       "      <th>1</th>\n",
       "      <td>KNeighborsClassifier</td>\n",
       "      <td>0.290123</td>\n",
       "    </tr>\n",
       "    <tr>\n",
       "      <th>2</th>\n",
       "      <td>RandomForestClassifier</td>\n",
       "      <td>0.283951</td>\n",
       "    </tr>\n",
       "  </tbody>\n",
       "</table>\n",
       "</div>"
      ],
      "text/plain": [
       "                    Model  Classification Rate\n",
       "0      LogisticRegression             0.327160\n",
       "3                 XGBoost             0.296296\n",
       "1    KNeighborsClassifier             0.290123\n",
       "2  RandomForestClassifier             0.283951"
      ]
     },
     "execution_count": 18,
     "metadata": {},
     "output_type": "execute_result"
    }
   ],
   "source": [
    "results = []\n",
    "names = []\n",
    "for name, model in models:\n",
    "    model_fit = model.fit(X_train, y_train)\n",
    "    pred = model_fit.predict(X_test)\n",
    "    result = accuracy_score(pred, y_test)\n",
    "    results.append(result)\n",
    "    names.append(name)\n",
    "\n",
    "results_df = pd.DataFrame({\n",
    "    'Model': names,\n",
    "    'Classification Rate': results\n",
    "})\n",
    "\n",
    "results_df.sort_values(by = 'Classification Rate', ascending = False)"
   ]
  },
  {
   "cell_type": "markdown",
   "metadata": {},
   "source": [
    "Indeed, logistic regression performs the best on the validation set. It is slightly lower than the training score, which is to be expected and suggests some overfitting. Now let's see how well neural networks perform on this dataset!"
   ]
  },
  {
   "cell_type": "code",
   "execution_count": 9,
   "metadata": {
    "ExecuteTime": {
     "end_time": "2018-07-14T10:18:17.719136Z",
     "start_time": "2018-07-14T10:18:17.705835Z"
    }
   },
   "outputs": [],
   "source": [
    "from keras.models import Sequential\n",
    "from keras.layers import Dense, Dropout\n",
    "from keras.optimizers import Adam\n",
    "from keras.wrappers.scikit_learn import KerasClassifier\n",
    "from sklearn.cross_validation import cross_val_score\n",
    "from sklearn.preprocessing import StandardScaler\n",
    "import numpy as np\n",
    "\n",
    "import keras.backend as K"
   ]
  },
  {
   "cell_type": "code",
   "execution_count": 7,
   "metadata": {
    "ExecuteTime": {
     "end_time": "2018-07-14T10:17:41.024799Z",
     "start_time": "2018-07-14T10:17:40.988582Z"
    }
   },
   "outputs": [],
   "source": [
    "K.clear_session()\n",
    "\n",
    "sc = StandardScaler()\n",
    "X_train_sc = sc.fit_transform(X_train)\n",
    "X_test_sc = sc.transform(X_test)\n",
    "\n",
    "\n",
    "def build_nnet():\n",
    "    nnet = Sequential()\n",
    "    nnet.add(Dense(512, kernel_initializer= 'normal', input_shape = (10,), activation = 'relu'))\n",
    "    nnet.add(Dropout(0.5))\n",
    "    nnet.add(Dense(512, kernel_initializer= 'normal',activation = 'relu'))\n",
    "    nnet.add(Dropout(0.3))\n",
    "\n",
    "\n",
    "    nnet.add(Dense(18, activation = 'softmax'))\n",
    "    nnet.compile(Adam(lr=0.001), \n",
    "                loss = 'categorical_crossentropy',\n",
    "                metrics = ['accuracy'])\n",
    "    return nnet\n",
    "\n",
    "y_train_cat = pd.get_dummies(y_train)\n",
    "y_test_cat = pd.get_dummies(y_test)\n",
    "nnet = KerasClassifier(build_fn = build_nnet, epochs = 100, verbose =0)"
   ]
  },
  {
   "cell_type": "code",
   "execution_count": 18,
   "metadata": {
    "ExecuteTime": {
     "end_time": "2018-07-14T10:21:16.404537Z",
     "start_time": "2018-07-14T10:21:01.447521Z"
    }
   },
   "outputs": [
    {
     "name": "stdout",
     "output_type": "stream",
     "text": [
      "The cross-validation scores for this neural network are:  [0.31627907 0.31162791 0.3627907 ]\n",
      "The average cross-validation score for this neural network is:  0.3302325581395349\n"
     ]
    }
   ],
   "source": [
    "cv_score = cross_val_score(nnet, X_train, y_train_cat)\n",
    "print('The cross-validation scores for this neural network are: ', cv_score)\n",
    "print('The average cross-validation score for this neural network is: ', cv_score.mean())"
   ]
  },
  {
   "cell_type": "code",
   "execution_count": 10,
   "metadata": {
    "ExecuteTime": {
     "end_time": "2018-07-14T10:18:25.094390Z",
     "start_time": "2018-07-14T10:18:21.808428Z"
    }
   },
   "outputs": [
    {
     "name": "stdout",
     "output_type": "stream",
     "text": [
      "Train on 516 samples, validate on 129 samples\n",
      "Epoch 1/100\n",
      "516/516 [==============================] - 0s 511us/step - loss: 13.7788 - acc: 0.0891 - val_loss: 13.3860 - val_acc: 0.1008\n",
      "Epoch 2/100\n",
      "516/516 [==============================] - 0s 63us/step - loss: 13.2896 - acc: 0.1240 - val_loss: 14.3508 - val_acc: 0.1085\n",
      "Epoch 3/100\n",
      "516/516 [==============================] - 0s 48us/step - loss: 13.7236 - acc: 0.1395 - val_loss: 14.3688 - val_acc: 0.1085\n",
      "Epoch 4/100\n",
      "516/516 [==============================] - 0s 57us/step - loss: 12.9963 - acc: 0.1609 - val_loss: 13.2170 - val_acc: 0.1473\n",
      "Epoch 5/100\n",
      "516/516 [==============================] - 0s 53us/step - loss: 13.5943 - acc: 0.1260 - val_loss: 13.1866 - val_acc: 0.1628\n",
      "Epoch 6/100\n",
      "516/516 [==============================] - 0s 56us/step - loss: 13.5122 - acc: 0.1376 - val_loss: 13.4828 - val_acc: 0.1395\n",
      "Epoch 7/100\n",
      "516/516 [==============================] - 0s 49us/step - loss: 13.2481 - acc: 0.1589 - val_loss: 13.2589 - val_acc: 0.1550\n",
      "Epoch 8/100\n",
      "516/516 [==============================] - 0s 36us/step - loss: 13.6526 - acc: 0.1395 - val_loss: 13.9917 - val_acc: 0.1318\n",
      "Epoch 9/100\n",
      "516/516 [==============================] - 0s 50us/step - loss: 13.5456 - acc: 0.1492 - val_loss: 13.5678 - val_acc: 0.1550\n",
      "Epoch 10/100\n",
      "516/516 [==============================] - 0s 42us/step - loss: 13.2826 - acc: 0.1609 - val_loss: 13.2928 - val_acc: 0.1628\n",
      "Epoch 11/100\n",
      "516/516 [==============================] - 0s 55us/step - loss: 13.4582 - acc: 0.1531 - val_loss: 13.7104 - val_acc: 0.1163\n",
      "Epoch 12/100\n",
      "516/516 [==============================] - 0s 36us/step - loss: 13.3496 - acc: 0.1609 - val_loss: 13.3531 - val_acc: 0.1550\n",
      "Epoch 13/100\n",
      "516/516 [==============================] - 0s 55us/step - loss: 13.3031 - acc: 0.1628 - val_loss: 13.2916 - val_acc: 0.1628\n",
      "Epoch 14/100\n",
      "516/516 [==============================] - 0s 46us/step - loss: 13.4970 - acc: 0.1531 - val_loss: 13.6056 - val_acc: 0.1318\n",
      "Epoch 15/100\n",
      "516/516 [==============================] - 0s 44us/step - loss: 13.3428 - acc: 0.1550 - val_loss: 13.1918 - val_acc: 0.1783\n",
      "Epoch 16/100\n",
      "516/516 [==============================] - 0s 63us/step - loss: 13.3160 - acc: 0.1647 - val_loss: 13.5650 - val_acc: 0.1473\n",
      "Epoch 17/100\n",
      "516/516 [==============================] - 0s 45us/step - loss: 13.2048 - acc: 0.1744 - val_loss: 13.3103 - val_acc: 0.1550\n",
      "Epoch 18/100\n",
      "516/516 [==============================] - 0s 45us/step - loss: 13.2929 - acc: 0.1628 - val_loss: 13.2591 - val_acc: 0.1550\n",
      "Epoch 19/100\n",
      "516/516 [==============================] - 0s 43us/step - loss: 13.3950 - acc: 0.1570 - val_loss: 13.6054 - val_acc: 0.1473\n",
      "Epoch 20/100\n",
      "516/516 [==============================] - 0s 52us/step - loss: 13.3247 - acc: 0.1609 - val_loss: 13.7293 - val_acc: 0.1395\n",
      "Epoch 21/100\n",
      "516/516 [==============================] - 0s 51us/step - loss: 13.3274 - acc: 0.1628 - val_loss: 13.3051 - val_acc: 0.1628\n",
      "Epoch 22/100\n",
      "516/516 [==============================] - 0s 53us/step - loss: 13.2103 - acc: 0.1628 - val_loss: 13.3252 - val_acc: 0.1550\n",
      "Epoch 23/100\n",
      "516/516 [==============================] - 0s 44us/step - loss: 13.3787 - acc: 0.1589 - val_loss: 13.3589 - val_acc: 0.1550\n",
      "Epoch 24/100\n",
      "516/516 [==============================] - 0s 48us/step - loss: 13.2508 - acc: 0.1705 - val_loss: 13.5455 - val_acc: 0.1473\n",
      "Epoch 25/100\n",
      "516/516 [==============================] - 0s 64us/step - loss: 13.2267 - acc: 0.1686 - val_loss: 13.0437 - val_acc: 0.1783\n",
      "Epoch 26/100\n",
      "516/516 [==============================] - 0s 41us/step - loss: 13.3481 - acc: 0.1609 - val_loss: 13.0437 - val_acc: 0.1783\n",
      "Epoch 27/100\n",
      "516/516 [==============================] - 0s 54us/step - loss: 13.2497 - acc: 0.1686 - val_loss: 13.5505 - val_acc: 0.1550\n",
      "Epoch 28/100\n",
      "516/516 [==============================] - 0s 45us/step - loss: 13.5157 - acc: 0.1531 - val_loss: 13.9940 - val_acc: 0.1318\n",
      "Epoch 29/100\n",
      "516/516 [==============================] - 0s 57us/step - loss: 13.4740 - acc: 0.1550 - val_loss: 13.1425 - val_acc: 0.1705\n",
      "Epoch 30/100\n",
      "516/516 [==============================] - 0s 46us/step - loss: 13.3608 - acc: 0.1628 - val_loss: 14.0275 - val_acc: 0.1240\n",
      "Epoch 31/100\n",
      "516/516 [==============================] - 0s 48us/step - loss: 13.7159 - acc: 0.1376 - val_loss: 13.9175 - val_acc: 0.1318\n",
      "Epoch 32/100\n",
      "516/516 [==============================] - 0s 47us/step - loss: 13.2729 - acc: 0.1589 - val_loss: 13.0739 - val_acc: 0.1705\n",
      "Epoch 33/100\n",
      "516/516 [==============================] - 0s 62us/step - loss: 12.5079 - acc: 0.1899 - val_loss: 14.1284 - val_acc: 0.1163\n",
      "Epoch 34/100\n",
      "516/516 [==============================] - 0s 46us/step - loss: 12.5269 - acc: 0.1996 - val_loss: 12.5212 - val_acc: 0.1783\n",
      "Epoch 35/100\n",
      "516/516 [==============================] - 0s 75us/step - loss: 12.5740 - acc: 0.1977 - val_loss: 11.8703 - val_acc: 0.2326\n",
      "Epoch 36/100\n",
      "516/516 [==============================] - 0s 37us/step - loss: 12.3452 - acc: 0.2054 - val_loss: 13.6100 - val_acc: 0.1395\n",
      "Epoch 37/100\n",
      "516/516 [==============================] - 0s 37us/step - loss: 12.5038 - acc: 0.2074 - val_loss: 12.1861 - val_acc: 0.2326\n",
      "Epoch 38/100\n",
      "516/516 [==============================] - 0s 41us/step - loss: 12.2124 - acc: 0.2151 - val_loss: 12.6450 - val_acc: 0.1783\n",
      "Epoch 39/100\n",
      "516/516 [==============================] - 0s 48us/step - loss: 12.3200 - acc: 0.2112 - val_loss: 11.8271 - val_acc: 0.2403\n",
      "Epoch 40/100\n",
      "516/516 [==============================] - 0s 45us/step - loss: 12.1141 - acc: 0.2093 - val_loss: 12.3372 - val_acc: 0.2171\n",
      "Epoch 41/100\n",
      "516/516 [==============================] - 0s 46us/step - loss: 12.5845 - acc: 0.2016 - val_loss: 13.0358 - val_acc: 0.1783\n",
      "Epoch 42/100\n",
      "516/516 [==============================] - 0s 68us/step - loss: 12.4286 - acc: 0.2151 - val_loss: 12.5184 - val_acc: 0.2171\n",
      "Epoch 43/100\n",
      "516/516 [==============================] - 0s 56us/step - loss: 12.4418 - acc: 0.2016 - val_loss: 12.8457 - val_acc: 0.1938\n",
      "Epoch 44/100\n",
      "516/516 [==============================] - 0s 45us/step - loss: 12.5496 - acc: 0.2035 - val_loss: 13.1120 - val_acc: 0.1783\n",
      "Epoch 45/100\n",
      "516/516 [==============================] - 0s 51us/step - loss: 12.3971 - acc: 0.2112 - val_loss: 11.9858 - val_acc: 0.2326\n",
      "Epoch 46/100\n",
      "516/516 [==============================] - 0s 57us/step - loss: 12.2584 - acc: 0.2209 - val_loss: 12.4260 - val_acc: 0.2016\n",
      "Epoch 47/100\n",
      "516/516 [==============================] - 0s 43us/step - loss: 11.8000 - acc: 0.2345 - val_loss: 11.6147 - val_acc: 0.2093\n",
      "Epoch 48/100\n",
      "516/516 [==============================] - 0s 60us/step - loss: 11.6209 - acc: 0.2287 - val_loss: 12.1742 - val_acc: 0.2171\n",
      "Epoch 49/100\n",
      "516/516 [==============================] - 0s 60us/step - loss: 11.8306 - acc: 0.2267 - val_loss: 11.6862 - val_acc: 0.2248\n",
      "Epoch 50/100\n",
      "516/516 [==============================] - 0s 42us/step - loss: 11.9488 - acc: 0.2248 - val_loss: 11.3431 - val_acc: 0.2326\n",
      "Epoch 51/100\n",
      "516/516 [==============================] - 0s 64us/step - loss: 11.7500 - acc: 0.2267 - val_loss: 10.3841 - val_acc: 0.2791\n",
      "Epoch 52/100\n",
      "516/516 [==============================] - 0s 54us/step - loss: 11.2017 - acc: 0.2287 - val_loss: 11.1441 - val_acc: 0.2171\n",
      "Epoch 53/100\n",
      "516/516 [==============================] - 0s 38us/step - loss: 12.1586 - acc: 0.1783 - val_loss: 10.3632 - val_acc: 0.2481\n",
      "Epoch 54/100\n",
      "516/516 [==============================] - 0s 55us/step - loss: 10.9653 - acc: 0.2442 - val_loss: 10.0784 - val_acc: 0.2636\n",
      "Epoch 55/100\n",
      "516/516 [==============================] - 0s 54us/step - loss: 11.3304 - acc: 0.2287 - val_loss: 10.7180 - val_acc: 0.2558\n",
      "Epoch 56/100\n",
      "516/516 [==============================] - 0s 52us/step - loss: 11.1120 - acc: 0.2345 - val_loss: 10.2268 - val_acc: 0.2403\n",
      "Epoch 57/100\n",
      "516/516 [==============================] - 0s 57us/step - loss: 10.8027 - acc: 0.2345 - val_loss: 10.0570 - val_acc: 0.2713\n",
      "Epoch 58/100\n",
      "516/516 [==============================] - 0s 62us/step - loss: 10.2866 - acc: 0.2616 - val_loss: 8.5595 - val_acc: 0.2636\n",
      "Epoch 59/100\n",
      "516/516 [==============================] - 0s 44us/step - loss: 9.7844 - acc: 0.2461 - val_loss: 7.5000 - val_acc: 0.2868\n",
      "Epoch 60/100\n",
      "516/516 [==============================] - 0s 55us/step - loss: 8.9532 - acc: 0.2364 - val_loss: 5.9934 - val_acc: 0.2558\n",
      "Epoch 61/100\n",
      "516/516 [==============================] - 0s 58us/step - loss: 7.3434 - acc: 0.2112 - val_loss: 4.3930 - val_acc: 0.2481\n",
      "Epoch 62/100\n",
      "516/516 [==============================] - 0s 40us/step - loss: 6.1514 - acc: 0.1609 - val_loss: 3.1188 - val_acc: 0.2403\n",
      "Epoch 63/100\n",
      "516/516 [==============================] - 0s 44us/step - loss: 4.3359 - acc: 0.2074 - val_loss: 2.5938 - val_acc: 0.2946\n",
      "Epoch 64/100\n",
      "516/516 [==============================] - 0s 45us/step - loss: 3.4070 - acc: 0.2481 - val_loss: 2.4392 - val_acc: 0.3101\n",
      "Epoch 65/100\n",
      "516/516 [==============================] - 0s 49us/step - loss: 3.0074 - acc: 0.2364 - val_loss: 2.4216 - val_acc: 0.3101\n",
      "Epoch 66/100\n",
      "516/516 [==============================] - 0s 52us/step - loss: 2.7628 - acc: 0.2287 - val_loss: 2.3957 - val_acc: 0.3256\n",
      "Epoch 67/100\n",
      "516/516 [==============================] - 0s 31us/step - loss: 2.6622 - acc: 0.2539 - val_loss: 2.3785 - val_acc: 0.3333\n",
      "Epoch 68/100\n",
      "516/516 [==============================] - 0s 33us/step - loss: 2.4993 - acc: 0.2829 - val_loss: 2.3324 - val_acc: 0.3178\n",
      "Epoch 69/100\n",
      "516/516 [==============================] - 0s 39us/step - loss: 2.4353 - acc: 0.3023 - val_loss: 2.2905 - val_acc: 0.3411\n",
      "Epoch 70/100\n",
      "516/516 [==============================] - 0s 35us/step - loss: 2.4459 - acc: 0.2829 - val_loss: 2.2826 - val_acc: 0.3256\n",
      "Epoch 71/100\n",
      "516/516 [==============================] - 0s 60us/step - loss: 2.4100 - acc: 0.2946 - val_loss: 2.3168 - val_acc: 0.3101\n",
      "Epoch 72/100\n",
      "516/516 [==============================] - 0s 47us/step - loss: 2.3816 - acc: 0.2907 - val_loss: 2.2977 - val_acc: 0.3178\n",
      "Epoch 73/100\n",
      "516/516 [==============================] - 0s 36us/step - loss: 2.3511 - acc: 0.3101 - val_loss: 2.3207 - val_acc: 0.3721\n",
      "Epoch 74/100\n",
      "516/516 [==============================] - 0s 38us/step - loss: 2.2593 - acc: 0.3256 - val_loss: 2.2824 - val_acc: 0.3488\n",
      "Epoch 75/100\n",
      "516/516 [==============================] - 0s 37us/step - loss: 2.3244 - acc: 0.3178 - val_loss: 2.2627 - val_acc: 0.3411\n",
      "Epoch 76/100\n",
      "516/516 [==============================] - 0s 44us/step - loss: 2.2409 - acc: 0.3140 - val_loss: 2.2587 - val_acc: 0.3411\n",
      "Epoch 77/100\n",
      "516/516 [==============================] - 0s 41us/step - loss: 2.2123 - acc: 0.3198 - val_loss: 2.2001 - val_acc: 0.3721\n",
      "Epoch 78/100\n",
      "516/516 [==============================] - 0s 39us/step - loss: 2.2075 - acc: 0.3062 - val_loss: 2.1789 - val_acc: 0.3566\n",
      "Epoch 79/100\n",
      "516/516 [==============================] - 0s 38us/step - loss: 2.2029 - acc: 0.3450 - val_loss: 2.2236 - val_acc: 0.3798\n",
      "Epoch 80/100\n",
      "516/516 [==============================] - 0s 43us/step - loss: 2.1674 - acc: 0.3178 - val_loss: 2.2822 - val_acc: 0.3953\n",
      "Epoch 81/100\n",
      "516/516 [==============================] - 0s 34us/step - loss: 2.1413 - acc: 0.3236 - val_loss: 2.2732 - val_acc: 0.4031\n",
      "Epoch 82/100\n",
      "516/516 [==============================] - 0s 33us/step - loss: 2.1398 - acc: 0.3411 - val_loss: 2.2515 - val_acc: 0.3876\n",
      "Epoch 83/100\n",
      "516/516 [==============================] - 0s 58us/step - loss: 2.0691 - acc: 0.3527 - val_loss: 2.2493 - val_acc: 0.3798\n",
      "Epoch 84/100\n",
      "516/516 [==============================] - 0s 47us/step - loss: 2.0179 - acc: 0.3372 - val_loss: 2.2402 - val_acc: 0.3566\n",
      "Epoch 85/100\n",
      "516/516 [==============================] - 0s 44us/step - loss: 2.0203 - acc: 0.3585 - val_loss: 2.2524 - val_acc: 0.3798\n",
      "Epoch 86/100\n",
      "516/516 [==============================] - 0s 48us/step - loss: 2.0425 - acc: 0.3605 - val_loss: 2.2723 - val_acc: 0.3643\n",
      "Epoch 87/100\n",
      "516/516 [==============================] - 0s 59us/step - loss: 2.0023 - acc: 0.3585 - val_loss: 2.2290 - val_acc: 0.3411\n",
      "Epoch 88/100\n",
      "516/516 [==============================] - 0s 33us/step - loss: 2.0118 - acc: 0.3798 - val_loss: 2.1902 - val_acc: 0.3411\n",
      "Epoch 89/100\n",
      "516/516 [==============================] - 0s 49us/step - loss: 2.0153 - acc: 0.3663 - val_loss: 2.2132 - val_acc: 0.3643\n",
      "Epoch 90/100\n",
      "516/516 [==============================] - 0s 41us/step - loss: 1.9754 - acc: 0.3876 - val_loss: 2.2372 - val_acc: 0.3643\n",
      "Epoch 91/100\n",
      "516/516 [==============================] - 0s 47us/step - loss: 2.0132 - acc: 0.3643 - val_loss: 2.2093 - val_acc: 0.3643\n",
      "Epoch 92/100\n",
      "516/516 [==============================] - 0s 42us/step - loss: 1.9766 - acc: 0.3643 - val_loss: 2.1890 - val_acc: 0.3721\n",
      "Epoch 93/100\n",
      "516/516 [==============================] - 0s 43us/step - loss: 1.9349 - acc: 0.3740 - val_loss: 2.1686 - val_acc: 0.3876\n",
      "Epoch 94/100\n",
      "516/516 [==============================] - 0s 47us/step - loss: 1.9494 - acc: 0.3895 - val_loss: 2.1857 - val_acc: 0.3953\n",
      "Epoch 95/100\n",
      "516/516 [==============================] - 0s 68us/step - loss: 1.9205 - acc: 0.3837 - val_loss: 2.1940 - val_acc: 0.3721\n",
      "Epoch 96/100\n",
      "516/516 [==============================] - 0s 58us/step - loss: 1.9373 - acc: 0.3953 - val_loss: 2.1727 - val_acc: 0.3876\n",
      "Epoch 97/100\n",
      "516/516 [==============================] - 0s 46us/step - loss: 1.8617 - acc: 0.4128 - val_loss: 2.1807 - val_acc: 0.3643\n",
      "Epoch 98/100\n",
      "516/516 [==============================] - 0s 49us/step - loss: 1.8325 - acc: 0.4302 - val_loss: 2.1890 - val_acc: 0.3643\n",
      "Epoch 99/100\n",
      "516/516 [==============================] - 0s 59us/step - loss: 1.8315 - acc: 0.4070 - val_loss: 2.1612 - val_acc: 0.3566\n",
      "Epoch 100/100\n",
      "516/516 [==============================] - 0s 75us/step - loss: 1.8302 - acc: 0.4186 - val_loss: 2.1932 - val_acc: 0.3178\n"
     ]
    },
    {
     "data": {
      "text/plain": [
       "<keras.callbacks.History at 0x7fae7008afd0>"
      ]
     },
     "execution_count": 10,
     "metadata": {},
     "output_type": "execute_result"
    },
    {
     "data": {
      "text/plain": [
       "0.35185185185185186"
      ]
     },
     "execution_count": 10,
     "metadata": {},
     "output_type": "execute_result"
    }
   ],
   "source": [
    "nnet.fit(X_train, y_train_cat, epochs = 100, verbose=1, batch_size=100, validation_split = 0.2)\n",
    "\n",
    "pred = nnet.predict(X_test)\n",
    "#pred\n",
    "accuracy_score(np.asarray(y_test_cat).argmax(axis=1),pred)"
   ]
  },
  {
   "cell_type": "markdown",
   "metadata": {},
   "source": [
    "# Conclusion"
   ]
  },
  {
   "cell_type": "markdown",
   "metadata": {},
   "source": [
    "Even though these models didn't yield world-class results, I still think it's quite an impressive improvement over the benchmark. It's highly likely that these variables aren't very good predictors for type. I did try running different models without the color features (not shown) and found that color improves the scores by about 5-10%, showing how important feature engineering is. There are a few things that likely could have improved the results. \n",
    "1. We could have collected more data on each pokemon, such as their height and weight, since certain types, such as steel and rock, are more heavier than others, such as grass and bug. \n",
    "2. We could have fine-tuned the algorithms' hyperparameters through methods such as random search or grid search.\n",
    "3. \n",
    "\n",
    "Overall, from data collection to exploration to analysis, this was a challenging but fun little experiment for me to practice my data analysis and machine learning skills :)."
   ]
  },
  {
   "cell_type": "code",
   "execution_count": null,
   "metadata": {},
   "outputs": [],
   "source": []
  }
 ],
 "metadata": {
  "kernelspec": {
   "display_name": "Python 3",
   "language": "python",
   "name": "python3"
  },
  "language_info": {
   "codemirror_mode": {
    "name": "ipython",
    "version": 3
   },
   "file_extension": ".py",
   "mimetype": "text/x-python",
   "name": "python",
   "nbconvert_exporter": "python",
   "pygments_lexer": "ipython3",
   "version": "3.6.5"
  },
  "toc": {
   "base_numbering": 1,
   "nav_menu": {},
   "number_sections": true,
   "sideBar": true,
   "skip_h1_title": false,
   "title_cell": "Table of Contents",
   "title_sidebar": "Contents",
   "toc_cell": false,
   "toc_position": {
    "height": "calc(100% - 180px)",
    "left": "10px",
    "top": "150px",
    "width": "222px"
   },
   "toc_section_display": true,
   "toc_window_display": true
  },
  "varInspector": {
   "cols": {
    "lenName": 16,
    "lenType": 16,
    "lenVar": "400"
   },
   "kernels_config": {
    "python": {
     "delete_cmd_postfix": "",
     "delete_cmd_prefix": "del ",
     "library": "var_list.py",
     "varRefreshCmd": "print(var_dic_list())"
    },
    "r": {
     "delete_cmd_postfix": ") ",
     "delete_cmd_prefix": "rm(",
     "library": "var_list.r",
     "varRefreshCmd": "cat(var_dic_list()) "
    }
   },
   "types_to_exclude": [
    "module",
    "function",
    "builtin_function_or_method",
    "instance",
    "_Feature"
   ],
   "window_display": false
  }
 },
 "nbformat": 4,
 "nbformat_minor": 2
}
